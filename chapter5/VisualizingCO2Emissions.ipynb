{
 "cells": [
  {
   "attachments": {},
   "cell_type": "markdown",
   "metadata": {},
   "source": [
    "# Visualizing Global CO2 Emissions"
   ]
  },
  {
   "attachments": {},
   "cell_type": "markdown",
   "metadata": {},
   "source": [
    "Derived from https://towardsdatascience.com/visualising-the-worlds-carbon-dioxide-emissions-with-python-e9149492e820\n",
    "\n",
    "Data obtained from https://edgar.jrc.ec.europa.eu/gallery?release=v70ghg&substance=CO2_excl_short-cycle_org_C&sector=TOTALS"
   ]
  },
  {
   "attachments": {},
   "cell_type": "markdown",
   "metadata": {},
   "source": [
    "### Acknowledgments\n",
    "I acknowledge the source of the data with a reference to the [EDGARv6.0 website](https://edgar.jrc.ec.europa.eu/index.php/dataset_ghg60) to Crippa et al. (2021) and to the [DOI](https://data.jrc.ec.europa.eu/dataset/97a67d67-c62e-4826-b873-9d972c4f670b).\n"
   ]
  },
  {
   "cell_type": "code",
   "execution_count": null,
   "metadata": {},
   "outputs": [],
   "source": [
    "import numpy as np\n",
    "import pandas as pd\n",
    "import geopandas as gpd\n",
    "from shapely.geometry import Point\n",
    "import cartopy.crs as ccrs\n",
    "import matplotlib.pyplot as plt"
   ]
  },
  {
   "cell_type": "code",
   "execution_count": null,
   "metadata": {},
   "outputs": [],
   "source": [
    "co2 = pd.read_csv('/Users/vonw/work/courses/2022-2023/spring/CE401/jupyterbook/CE401/chapter5/v7/v7.0_FT2021_CO2_excl_short-cycle_org_C_2021_TOTALS.txt', delimiter=';', skiprows=2)\n",
    "co2.head()"
   ]
  },
  {
   "cell_type": "code",
   "execution_count": null,
   "metadata": {},
   "outputs": [],
   "source": [
    "# From https://towardsdatascience.com/visualising-the-worlds-carbon-dioxide-emissions-with-python-e9149492e820\n",
    "geometry = [Point(xy) for xy in zip(co2['lon'], co2['lat'])]\n",
    "geodata = gpd.GeoDataFrame(co2, crs=\"EPSG:4326\", geometry=geometry)"
   ]
  },
  {
   "cell_type": "code",
   "execution_count": null,
   "metadata": {},
   "outputs": [],
   "source": [
    "# From https://towardsdatascience.com/visualising-the-worlds-carbon-dioxide-emissions-with-python-e9149492e820\n",
    "from matplotlib import cm\n",
    "from matplotlib.colors import ListedColormap\n",
    "from matplotlib import colors\n",
    "\n",
    "our_cmap = cm.get_cmap('afmhot', 11)\n",
    "newcolors = our_cmap(np.linspace(0, 1, 11))\n",
    "newcolors = newcolors[1:]\n",
    "\n",
    "black = np.array([0.0, 0.0, 0.0, 1.0])\n",
    "#newcolors[:1, :] = black\n",
    "our_cmap = ListedColormap(newcolors)\n",
    "bounds = [0.0, 0.06, 6, 60, 600, 3000, 6000, 24000, 45000, 120000]\n",
    "norm = colors.BoundaryNorm(bounds, our_cmap.N)\n",
    "\n",
    "gradient = np.linspace(0, 1, 10)\n",
    "gradient = np.vstack((gradient, gradient))\n",
    "\n",
    "fig, ax = plt.subplots(facecolor='black', subplot_kw={'projection': ccrs.Robinson()})\n",
    "ax.patch.set_facecolor('black')\n",
    "\n",
    "fig.set_size_inches(7, 3.5)\n",
    "ax = geodata.plot(ax=ax, column='emission 2021 (tons)', transform=ccrs.PlateCarree(),\n",
    "                  cmap=our_cmap, norm=norm, s=0.05, alpha=1, edgecolors='none')\n",
    "\n",
    "plt.setp(ax.spines.values(), color='black')\n",
    "plt.setp([ax.get_xticklines(), ax.get_yticklines()], color='black')\n",
    "newax = fig.add_axes([0.82, 0.13, 0.08, 0.08], anchor='NE')\n",
    "newax.imshow(logo)\n",
    "newax.axis('off')\n",
    "txt = ax.text(0.0, 0.02, \"CO$_2$ Emissions \\n@PythonMaps\",\n",
    "              size=4,\n",
    "              color='white',\n",
    "              transform = ax.transAxes)\n",
    "\n",
    "ax.set_ylim(-8000000, 9000000)\n",
    "\n",
    "fig = ax.get_figure()\n",
    "cax = fig.add_axes([0.36, 0.16, 0.33, 0.01])\n",
    "sm = plt.cm.ScalarMappable(cmap=our_cmap, norm=norm)\n",
    "sm._A = []\n",
    "cb = fig.colorbar(sm, cax=cax, orientation=\"horizontal\", pad=0.2, format='%.1e',\n",
    "                  ticks=[0.03, 3, 33, 330, 1800, 4500, 15000, 34500, 82500],\n",
    "                  drawedges=True)\n",
    "cb.outline.set_visible(False)\n",
    "#cb.outline.set_linewidth(0.00001)\n",
    "#cb.outline.set_color('white')\n",
    "cb.ax.tick_params(labelsize=2, width=0.5, length=0.5, color='white')\n",
    "cbytick_obj = plt.getp(cb.ax, 'xticklabels' ) #Set y tick label color\n",
    "plt.setp(cbytick_obj, color='white')\n",
    "cb.ax.set_xlabel('CO$_2$ Tons/Year', fontsize=4, color='white', labelpad=-16)\n",
    "plt.show()"
   ]
  },
  {
   "cell_type": "code",
   "execution_count": null,
   "metadata": {},
   "outputs": [],
   "source": []
  }
 ],
 "metadata": {
  "kernelspec": {
   "display_name": "base",
   "language": "python",
   "name": "python3"
  },
  "language_info": {
   "codemirror_mode": {
    "name": "ipython",
    "version": 3
   },
   "file_extension": ".py",
   "mimetype": "text/x-python",
   "name": "python",
   "nbconvert_exporter": "python",
   "pygments_lexer": "ipython3",
   "version": "3.10.5"
  },
  "orig_nbformat": 4,
  "vscode": {
   "interpreter": {
    "hash": "803aaea8018b5f3008b0095b367fec585783f18ef8cf99c7744bcd7257754e2c"
   }
  }
 },
 "nbformat": 4,
 "nbformat_minor": 2
}
