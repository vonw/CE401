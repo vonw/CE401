{
  "cells": [
    {
      "cell_type": "markdown",
      "metadata": {},
      "source": [
        "# Comparing temperature distributions\n",
        "\n",
        "Von P. Walden\n",
        "\n",
        "### Comparing temperature distributions\n",
        "\n",
        "<i>© Von P. Walden, Washington State University</i>\n",
        "\n",
        "This notebook compares two distributions that differ slightly in their\n",
        "mean values. The idea is to simulate the two distributions in Figure 1.1\n",
        "in Dessler’s book, and to then subtract the distributions to show where\n",
        "they differ the most."
      ],
      "id": "6e84d716-eb5e-455f-819e-12db2bb5930b"
    },
    {
      "cell_type": "code",
      "execution_count": null,
      "metadata": {},
      "outputs": [],
      "source": [
        "import numpy as np\n",
        "import matplotlib.pyplot as plt\n",
        "from scipy.stats import norm\n",
        "import statistics"
      ],
      "id": "cell-4"
    },
    {
      "cell_type": "markdown",
      "metadata": {},
      "source": [
        "#### Generate two distributions of temperatures that approximate those measured in Houston, TX in the 1970s and 2010s."
      ],
      "id": "b3a5f10e-69c1-4a6f-8a35-3f938d6724ce"
    },
    {
      "cell_type": "code",
      "execution_count": null,
      "metadata": {},
      "outputs": [],
      "source": [
        "# ....These distributions roughly approximate those in Figure 1.1 in Dessler's Introduction to Modern Climate Change\n",
        "x = np.arange(21, 43, 0.1)\n",
        "H1970s = norm.pdf(x, 31, 2.75)\n",
        "H2010s = norm.pdf(x, 33, 2.75)\n",
        "\n",
        "\n",
        "plt.figure(figsize=(12,12))\n",
        "plt.subplot(211)\n",
        "plt.plot(x, H1970s)\n",
        "plt.plot(x, H2010s)\n",
        "plt.grid(True)\n",
        "plt.xlabel('Temperature (C)')\n",
        "plt.ylabel('Frequency')\n",
        "plt.title('Approximate Temperature Distributions for September near Houston, TX')\n",
        "plt.legend(['1970s', '2010s'])\n",
        "plt.subplot(212)\n",
        "plt.plot(x, H2010s-H1970s)\n",
        "plt.xlabel('Temperature (C)')\n",
        "plt.ylabel('Frequency')\n",
        "plt.title('Difference of the two temperature distributions')\n",
        "plt.grid(True)"
      ],
      "id": "cell-6"
    }
  ],
  "nbformat": 4,
  "nbformat_minor": 5,
  "metadata": {
    "kernelspec": {
      "name": "python3",
      "display_name": "Python 3",
      "language": "python"
    },
    "language_info": {
      "name": "python",
      "codemirror_mode": {
        "name": "ipython",
        "version": "3"
      },
      "file_extension": ".py",
      "mimetype": "text/x-python",
      "nbconvert_exporter": "python",
      "pygments_lexer": "ipython3",
      "version": "3.11.4"
    },
    "vscode": {
      "interpreter": {
        "hash": "803aaea8018b5f3008b0095b367fec585783f18ef8cf99c7744bcd7257754e2c"
      }
    }
  }
}