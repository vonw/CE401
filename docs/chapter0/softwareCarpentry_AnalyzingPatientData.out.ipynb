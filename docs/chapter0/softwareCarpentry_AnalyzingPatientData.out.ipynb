{
  "cells": [
    {
      "cell_type": "markdown",
      "metadata": {},
      "source": [
        "# Software Carpentry - Analyzing Patient Data\n",
        "\n",
        "Von P. Walden\n",
        "\n",
        "### Software Carpentry - Analyzing Patient Data\n",
        "\n",
        "Read [Software Carpentry’s Analyzing Patient\n",
        "Data](https://swcarpentry.github.io/python-novice-inflammation/02-numpy.html).\n",
        "\n",
        "Using notebook cells below, type in the commands in the instructions to\n",
        "check your knowledge of Python variables. (The two cells below will get\n",
        "you started.)"
      ],
      "id": "d4b929dd-8640-4bb7-8123-16be95fd33e4"
    },
    {
      "cell_type": "code",
      "execution_count": null,
      "metadata": {},
      "outputs": [],
      "source": [
        "import numpy"
      ],
      "id": "cell-4"
    },
    {
      "cell_type": "code",
      "execution_count": null,
      "metadata": {},
      "outputs": [],
      "source": [
        "numpy.loadtxt(fname='inflammation-01.csv', delimiter=',')"
      ],
      "id": "cell-5"
    }
  ],
  "nbformat": 4,
  "nbformat_minor": 5,
  "metadata": {
    "kernelspec": {
      "name": "python3",
      "display_name": "work",
      "language": "python"
    },
    "language_info": {
      "name": "python",
      "codemirror_mode": {
        "name": "ipython",
        "version": "3"
      },
      "file_extension": ".py",
      "mimetype": "text/x-python",
      "nbconvert_exporter": "python",
      "pygments_lexer": "ipython3",
      "version": "3.11.4"
    }
  }
}