{
  "cells": [
    {
      "cell_type": "markdown",
      "metadata": {},
      "source": [
        "# Software Carpentry - Python Fundamentals\n",
        "\n",
        "Von P. Walden\n",
        "\n",
        "### Software Carpentry - Python Fundamentals\n",
        "\n",
        "Read [Software Carpentry’s Python\n",
        "Fundamentals](https://swcarpentry.github.io/python-novice-inflammation/01-intro.html).\n",
        "Start by scrolling down to the section on Variables.\n",
        "\n",
        "Using notebook cells below, type in the commands in the instructions to\n",
        "check your knowledge of Python variables. (The cell below is the first\n",
        "example.)"
      ],
      "id": "2509dfd3-dbf1-4494-a434-d2d6b4eeb0fd"
    },
    {
      "cell_type": "code",
      "execution_count": null,
      "metadata": {},
      "outputs": [],
      "source": [
        "3 + 5 * 4"
      ],
      "id": "cell-4"
    }
  ],
  "nbformat": 4,
  "nbformat_minor": 5,
  "metadata": {
    "kernelspec": {
      "name": "python3",
      "display_name": "Python 3",
      "language": "python"
    },
    "language_info": {
      "name": "python"
    }
  }
}