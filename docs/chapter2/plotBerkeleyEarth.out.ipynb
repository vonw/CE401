{
  "cells": [
    {
      "cell_type": "markdown",
      "metadata": {},
      "source": [
        "# Plot Berkeley Earth\n",
        "\n",
        "Von P. Walden\n",
        "\n",
        "### Plot global temperature anomalies from Berkeley Earth\n",
        "\n",
        "<i>© Von P. Walden, Washington State University</i>\n",
        "\n",
        "The data used in this notebook are from [Berkeley\n",
        "Earth](http://berkeleyearth.org/data): Land_and_Ocean_LatLong1.nc"
      ],
      "id": "ad2a3824-33e1-4bb9-a3f1-da326600b69e"
    },
    {
      "cell_type": "code",
      "execution_count": null,
      "metadata": {},
      "outputs": [],
      "source": [
        "import matplotlib.pyplot as plt\n",
        "import cartopy.crs as ccrs\n",
        "import pandas as pd\n",
        "import xarray as xr"
      ],
      "id": "77b6139e-c303-4cb6-b760-4c2a194eeaaa"
    },
    {
      "cell_type": "markdown",
      "metadata": {},
      "source": [
        "#### Working from your local computer\n",
        "\n",
        "If you are running this notebook from your local computer, you will need\n",
        "to:\n",
        "\n",
        "1.  Download a large (400 MB) data file from Berkeley Earth by clicking\n",
        "    on [this\n",
        "    link](https://berkeley-earth-temperature.s3.us-west-1.amazonaws.com/Global/Gridded/Land_and_Ocean_LatLong1.nc)\n",
        "\n",
        "2.  Edit the code cell below by replacing\n",
        "    ‘../Land_and_Ocean_LatLong1.nc’ with the pathname to the data file\n",
        "    on your local hard drive."
      ],
      "id": "29f064ef-f3d5-431e-a8da-6b849b7d83b9"
    },
    {
      "cell_type": "code",
      "execution_count": null,
      "metadata": {},
      "outputs": [],
      "source": [
        "be = xr.open_dataset('../../Land_and_Ocean_LatLong1.nc')\n",
        "#be = xr.open_dataset('/Users/vonw/work/courses/2021-2022/spring/CE401/jupyterbook/CE401/Land_and_Ocean_LatLong1.nc')\n",
        "be"
      ],
      "id": "3f50ad6b-da7d-4e39-b1f4-145125929872"
    },
    {
      "cell_type": "markdown",
      "metadata": {},
      "source": [
        "#### Plot geographic distribution of 1951-1980 climatology"
      ],
      "id": "670bdcf5-156f-4933-8071-2550b843842c"
    },
    {
      "cell_type": "code",
      "execution_count": null,
      "metadata": {},
      "outputs": [],
      "source": [
        "# Select a particular month to view\n",
        "month = 'Jan'\n",
        "#month = 'Jul'\n",
        "\n",
        "months = ['Jan', 'Feb', 'Mar', 'Apr', 'May', 'Jun', 'Jul', 'Aug', 'Sep', 'Oct', 'Nov', 'Dec']\n",
        "\n",
        "fig = plt.figure(figsize=(20,10))\n",
        "ax = plt.axes(projection=ccrs.PlateCarree())\n",
        "ax.coastlines()\n",
        "be.climatology[months.index(month)].plot(ax=ax)\n",
        "plt.title('Climatology (1951-1980) for ' + month);"
      ],
      "id": "aa116d6a"
    },
    {
      "cell_type": "markdown",
      "metadata": {},
      "source": [
        "#### Plot geographic distribution of temperature anomalies for given year and month"
      ],
      "id": "639a76e2-cb9d-4186-ad9a-b74a0045692d"
    },
    {
      "cell_type": "code",
      "execution_count": null,
      "metadata": {},
      "outputs": [],
      "source": [
        "# Select a particular year and month to view\n",
        "year = 1900\n",
        "month = 'Jan'\n",
        "#month = 'Jul'\n",
        "\n",
        "months = ['Jan', 'Feb', 'Mar', 'Apr', 'May', 'Jun', 'Jul', 'Aug', 'Sep', 'Oct', 'Nov', 'Dec']\n",
        "\n",
        "fig = plt.figure(figsize=(20,10))\n",
        "ax = plt.axes(projection=ccrs.PlateCarree())\n",
        "ax.coastlines()\n",
        "(be.temperature[months.index(month)+((year-1850)*12)]).plot(ax=ax, clim=[-10, 10])\n",
        "plt.title('Temperature Anomalies for ' + month + ' ' + str(year));"
      ],
      "id": "b8050626"
    },
    {
      "cell_type": "markdown",
      "metadata": {},
      "source": [
        "#### Plot geographic distribution of actual temperatures for given year and month"
      ],
      "id": "5fb01aa6-5f2c-4148-9f88-0788557284fb"
    },
    {
      "cell_type": "code",
      "execution_count": null,
      "metadata": {},
      "outputs": [],
      "source": [
        "# Select a particular year and month to view\n",
        "year = 1990\n",
        "month = 'Jan'\n",
        "#month = 'Jul'\n",
        "\n",
        "months = ['Jan', 'Feb', 'Mar', 'Apr', 'May', 'Jun', 'Jul', 'Aug', 'Sep', 'Oct', 'Nov', 'Dec']\n",
        "\n",
        "fig = plt.figure(figsize=(20,10))\n",
        "ax = plt.axes(projection=ccrs.PlateCarree())\n",
        "ax.coastlines()\n",
        "(be.temperature[months.index(month)+((year-1850)*12)] + be.climatology[months.index(month)]).plot(ax=ax, clim=[-10, 10])\n",
        "plt.title('Temperatures for ' + month + ' ' + str(year));"
      ],
      "id": "a37e2e0b"
    },
    {
      "cell_type": "markdown",
      "metadata": {},
      "source": [
        "#### Calculate global annual temperature anomalies"
      ],
      "id": "5f9cc354-4ed5-4b06-bb83-d46296023647"
    },
    {
      "cell_type": "code",
      "execution_count": null,
      "metadata": {},
      "outputs": [],
      "source": [
        "# Select a particular year and month to view\n",
        "# !! Depending on how many years you choose to analyze, this COULD TAKE TENS OF SECONDS to complete.\n",
        "beginning_year = 1850\n",
        "ending_year = 2010\n",
        "\n",
        "months = pd.date_range(start=str(beginning_year), end=str(ending_year+1), freq='M')\n",
        "\n",
        "data = []\n",
        "for month in months:\n",
        "    #print(month.month)\n",
        "    data.append(be.temperature[month.month+((month.year-1850)*12)].mean())\n",
        "\n",
        "Tanomalies = xr.DataArray(data, coords={'month': months})\n",
        "\n",
        "fig = plt.figure(figsize=(20,10))\n",
        "Tanomalies.plot()\n",
        "plt.grid()\n",
        "plt.xlabel('Month');\n",
        "plt.ylabel('Temperature anomaly (C)');\n",
        "plt.title('Global monthly temperature anomaly between ' + str(beginning_year) + ' and ' + str(ending_year));"
      ],
      "id": "9c76dc33"
    },
    {
      "cell_type": "markdown",
      "metadata": {},
      "source": [
        "#### Calculate longitudinally-averaged temperature anomalies"
      ],
      "id": "a5b29e09-86ed-4cab-bbe6-ead7a091eac6"
    },
    {
      "cell_type": "code",
      "execution_count": null,
      "metadata": {},
      "outputs": [],
      "source": [
        "# Select the latitude range to average over\n",
        "beginning_latitude = -5\n",
        "ending_latitude = 5\n",
        "\n",
        "# Select a particular year and month to view\n",
        "# !! Depending on how many years you choose to analyze, this COULD TAKE TENS OF SECONDS to complete.\n",
        "beginning_year = 1950\n",
        "ending_year = 2020\n",
        "\n",
        "months = pd.date_range(start=str(beginning_year), end=str(ending_year+1), freq='M')\n",
        "\n",
        "data = []\n",
        "for month in months:\n",
        "    #print(month.month)\n",
        "    data.append(be.temperature[month.month+((month.year-1850)*12)].sel(latitude=slice(beginning_latitude, ending_latitude)).mean())\n",
        "\n",
        "Tanomalies = xr.DataArray(data, coords={'month': months})\n",
        "\n",
        "fig = plt.figure(figsize=(20,10))\n",
        "Tanomalies.plot()\n",
        "plt.grid()\n",
        "plt.xlabel('Month');\n",
        "plt.ylabel('Temperature anomaly (C)');\n",
        "plt.title('Equatorial temperature anomaly between ' + str(beginning_year) + ' and ' + str(ending_year));"
      ],
      "id": "2f7ec941"
    }
  ],
  "nbformat": 4,
  "nbformat_minor": 5,
  "metadata": {
    "kernelspec": {
      "name": "python3",
      "display_name": "Python 3 (ipykernel)",
      "language": "python"
    },
    "language_info": {
      "name": "python",
      "codemirror_mode": {
        "name": "ipython",
        "version": "3"
      },
      "file_extension": ".py",
      "mimetype": "text/x-python",
      "nbconvert_exporter": "python",
      "pygments_lexer": "ipython3",
      "version": "3.10.5"
    },
    "vscode": {
      "interpreter": {
        "hash": "803aaea8018b5f3008b0095b367fec585783f18ef8cf99c7744bcd7257754e2c"
      }
    }
  }
}