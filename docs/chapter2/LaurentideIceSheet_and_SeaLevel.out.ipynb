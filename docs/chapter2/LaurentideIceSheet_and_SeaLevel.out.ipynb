{
  "cells": [
    {
      "cell_type": "markdown",
      "metadata": {},
      "source": [
        "# Laurentide Ice Sheet and Sea Level\n",
        "\n",
        "Von P. Walden\n",
        "\n",
        "### Approximate the Decrease in Sea-level from the Laurentide Ice Sheet\n",
        "\n",
        "<i>© Von P. Walden, Washington State University</i>\n",
        "\n",
        "This notebook does a quick calculation of how much ice was contained in\n",
        "the Laurentide Ice Sheet about 20,000 years ago, and how that may have\n",
        "affected sea level at that time."
      ],
      "id": "ede803c5-cb86-48ed-9338-c8f142bf641e"
    },
    {
      "cell_type": "code",
      "execution_count": null,
      "metadata": {},
      "outputs": [],
      "source": [
        "# Approximate the volume of water in the Laurentide Ice Sheet\n",
        "surface_area_of_Canada     = 10e6       # km^2\n",
        "average_height_of_icesheet = 1.750      # km\n",
        "volume_of_ice              = surface_area_of_Canada * average_height_of_icesheet\n",
        "\n",
        "# Assume the density of ice in the Laurentide\n",
        "rho_ice                    = 917        # kg m-3\n",
        "rho_water                  = 1000       # kg m-3\n",
        "\n",
        "volume_of_water            = volume_of_ice * (rho_water / rho_ice)"
      ],
      "id": "cell-4"
    },
    {
      "cell_type": "code",
      "execution_count": null,
      "metadata": {},
      "outputs": [],
      "source": [
        "print(\"The estimated volume of water in the Laurentide ice sheet is:\", volume_of_water, \"km^3\")"
      ],
      "id": "cell-5"
    },
    {
      "cell_type": "code",
      "execution_count": null,
      "metadata": {},
      "outputs": [],
      "source": [
        "# Now divide by the surface area of oceans on earth to get the depth of water required to create the ice sheet.\n",
        "surface_area_of_oceans     = 361e6        # km^2\n",
        "sea_level_change           = volume_of_water / surface_area_of_oceans * 1000   # meters"
      ],
      "id": "cell-6"
    },
    {
      "cell_type": "code",
      "execution_count": null,
      "metadata": {},
      "outputs": [],
      "source": [
        "print(f'Decrease in sea level due to the Laurentide Ice Sheet: {sea_level_change:{5.3}} meters')"
      ],
      "id": "cell-7"
    },
    {
      "cell_type": "markdown",
      "metadata": {},
      "source": [
        "#### The actual value at the height of the last ice age was actually about 120 meters.\n",
        "\n",
        "[Sea Level Rise, After the Ice Melted and\n",
        "Today](https://www.giss.nasa.gov/research/briefs/gornitz_09/)\n",
        "\n",
        "##### Where might we have underestimated our calculation? The density of ice !!\n",
        "\n",
        "So find the necessary density of ice to get 120 meters of sea level."
      ],
      "id": "fcffd030-1f76-4a3f-a695-67eff7b39914"
    },
    {
      "cell_type": "code",
      "execution_count": null,
      "metadata": {},
      "outputs": [],
      "source": [
        "new_rho_of_ice = volume_of_ice * (rho_water) / (surface_area_of_oceans * 120/1000)"
      ],
      "id": "cell-12"
    },
    {
      "cell_type": "code",
      "execution_count": null,
      "metadata": {},
      "outputs": [],
      "source": [
        "new_rho_of_ice"
      ],
      "id": "cell-13"
    },
    {
      "cell_type": "markdown",
      "metadata": {},
      "source": [
        "#### So the density of ice would have had to be much lower; 400 kg/m^3."
      ],
      "id": "c754437d-7b72-40d8-8924-873aa79a81f3"
    }
  ],
  "nbformat": 4,
  "nbformat_minor": 5,
  "metadata": {
    "kernelspec": {
      "name": "python3",
      "display_name": "Python 3 (ipykernel)",
      "language": "python"
    },
    "language_info": {
      "name": "python",
      "codemirror_mode": {
        "name": "ipython",
        "version": "3"
      },
      "file_extension": ".py",
      "mimetype": "text/x-python",
      "nbconvert_exporter": "python",
      "pygments_lexer": "ipython3",
      "version": "3.10.5"
    }
  }
}