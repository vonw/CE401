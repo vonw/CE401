{
  "cells": [
    {
      "cell_type": "markdown",
      "metadata": {},
      "source": [
        "# ASHRAE Irradiance sample calculation\n",
        "\n",
        "Von P. Walden\n",
        "\n",
        "### ASHRAE Irradiance sample calculation"
      ],
      "id": "b70cacb8-b9e1-4160-a761-a608a5478e14"
    },
    {
      "cell_type": "code",
      "execution_count": null,
      "metadata": {},
      "outputs": [],
      "source": [
        "import numpy as np\n",
        "import pandas as pd\n",
        "import hvplot.pandas\n",
        "\n",
        "import matplotlib.pyplot as plt"
      ],
      "id": "cell-2"
    },
    {
      "cell_type": "markdown",
      "metadata": {},
      "source": [
        "ASHRAE provides a formula for calculating the irradiance at the surface\n",
        "on a plane that is perpendicular to the incoming solar radiation. This\n",
        "equation is:\n",
        "\n",
        "$$ I_B = A e^{-Km} $$\n",
        "\n",
        "where\n",
        "\n",
        "$$ A = 1160 + 75 sin[360(n - 275)/365] $$\n",
        "\n",
        "$$ K = 0.174 + 0.035 sin[360(n - 100)/365] $$\n",
        "\n",
        "$$ m = 1/ sin(\\beta) $$\n",
        "\n",
        "$$ \\beta = 90 - Latitude + Declination $$\n",
        "\n",
        "$$ Declination = \\delta = 23.45 sin[360/365 (n - 81)] $$\n",
        "\n",
        "and n is the day number (e.g., May 1 = 31 + 28 + 31 + 30 + 1 = 121). A\n",
        "is the irradiance (W m-2), K is the attenuation per air mass, and m is\n",
        "the air mass."
      ],
      "id": "0b95d264-5d81-4f23-beb4-dc161955a213"
    },
    {
      "cell_type": "code",
      "execution_count": null,
      "metadata": {},
      "outputs": [],
      "source": [
        "def declination(day):\n",
        "    d = -23.44 * np.cos( (2.*np.pi) / 365.25 * (day + 10) )   # Approximate\n",
        "    return d"
      ],
      "id": "cell-4"
    },
    {
      "cell_type": "code",
      "execution_count": null,
      "metadata": {},
      "outputs": [],
      "source": [
        "def declination(day):\n",
        "    d = 23.44 * np.cos( (2.*np.pi) / 365.25 * (day - 81) )   # Approximate\n",
        "    return d"
      ],
      "id": "cell-5"
    },
    {
      "cell_type": "code",
      "execution_count": null,
      "metadata": {},
      "outputs": [],
      "source": [
        "def A(n):\n",
        "    return 1160. + 75.*np.sin(360/365*(n-275)*np.pi/180) # W m-2"
      ],
      "id": "cell-6"
    },
    {
      "cell_type": "code",
      "execution_count": null,
      "metadata": {},
      "outputs": [],
      "source": [
        "def K(n):\n",
        "    return 0.174 +0.035*np.sin(360/365*(n-100)*np.pi/180) # unitless"
      ],
      "id": "cell-7"
    },
    {
      "cell_type": "code",
      "execution_count": null,
      "metadata": {},
      "outputs": [],
      "source": [
        "def m(latitude, declination):\n",
        "    return 1. / np.sin((90. - latitude + declination)*np.pi/180)"
      ],
      "id": "cell-8"
    },
    {
      "cell_type": "code",
      "execution_count": null,
      "metadata": {},
      "outputs": [],
      "source": [
        "days = np.arange(0,366)\n",
        "dec = []\n",
        "for day in days:\n",
        "    dec.append(declination(day))\n",
        "dec = np.array(dec)\n",
        "\n",
        "plt.figure(figsize=(12,6))\n",
        "plt.plot(days, dec)\n",
        "plt.grid();\n",
        "plt.xlabel('Day of Year');\n",
        "plt.ylabel('Declination');"
      ],
      "id": "cell-9"
    },
    {
      "cell_type": "code",
      "execution_count": null,
      "metadata": {},
      "outputs": [],
      "source": [
        "A(121)"
      ],
      "id": "cell-10"
    },
    {
      "cell_type": "code",
      "execution_count": null,
      "metadata": {},
      "outputs": [],
      "source": [
        "K(121)"
      ],
      "id": "cell-11"
    },
    {
      "cell_type": "code",
      "execution_count": null,
      "metadata": {},
      "outputs": [],
      "source": [
        "declination(121)"
      ],
      "id": "cell-12"
    },
    {
      "cell_type": "code",
      "execution_count": null,
      "metadata": {},
      "outputs": [],
      "source": [
        "m(46.73, declination(121))"
      ],
      "id": "cell-13"
    },
    {
      "cell_type": "code",
      "execution_count": null,
      "metadata": {},
      "outputs": [],
      "source": [
        "lat = 46.73\n",
        "day = 121\n",
        "dec = declination(day)\n",
        "Ib = A(day) * np.exp(-K(day)*m(lat, dec))\n",
        "print('The ASHRAE irradiance at the surface is %4.0f W m-2'% Ib)"
      ],
      "id": "cell-14"
    },
    {
      "cell_type": "markdown",
      "metadata": {},
      "source": [
        "#### Now create an annual cycle of solar radiation"
      ],
      "id": "db0aeff2-91c3-49c5-8abb-6efc84b5f112"
    },
    {
      "cell_type": "code",
      "execution_count": null,
      "metadata": {},
      "outputs": [],
      "source": [
        "dates = pd.date_range('2023-01-01', '2023-12-31', freq='d')"
      ],
      "id": "cell-16"
    },
    {
      "cell_type": "code",
      "execution_count": null,
      "metadata": {},
      "outputs": [],
      "source": [
        "dec = []\n",
        "Ib  = []\n",
        "for date in dates:\n",
        "    day = int(date.strftime('%-j'))\n",
        "    dec.append(declination(day))\n",
        "    Ib.append(A(day) * np.exp(-K(day)*m(lat, dec[-1])))\n",
        "dec = np.array(dec)\n",
        "df = pd.DataFrame({'declination': dec, 'irradiance': Ib})\n",
        "df.index = dates"
      ],
      "id": "cell-17"
    },
    {
      "cell_type": "code",
      "execution_count": null,
      "metadata": {},
      "outputs": [],
      "source": [
        "df.declination.plot(figsize=(16,6), grid=True)"
      ],
      "id": "cell-18"
    },
    {
      "cell_type": "code",
      "execution_count": null,
      "metadata": {},
      "outputs": [],
      "source": [
        "df.irradiance.plot(figsize=(16,6), grid=True)"
      ],
      "id": "cell-19"
    },
    {
      "cell_type": "markdown",
      "metadata": {},
      "source": [
        "NOTE THAT this is the solar radiation (in W m-2) on a surface that is\n",
        "always perpendicular to the sunlight. This is quite different from the\n",
        "TOA insolation that we calculated before. See the figures in the [Solar\n",
        "Radiation\n",
        "Calculator](https://www.cableizer.com/blog/post/solar-radiation-calculator/)\n",
        "for another example."
      ],
      "id": "ca062925-ea77-4065-8e87-bba95d4ab538"
    }
  ],
  "nbformat": 4,
  "nbformat_minor": 5,
  "metadata": {
    "kernelspec": {
      "name": "python3",
      "display_name": "Python 3 (ipykernel)",
      "language": "python"
    },
    "language_info": {
      "name": "python",
      "codemirror_mode": {
        "name": "ipython",
        "version": "3"
      },
      "file_extension": ".py",
      "mimetype": "text/x-python",
      "nbconvert_exporter": "python",
      "pygments_lexer": "ipython3",
      "version": "3.11.4"
    }
  }
}