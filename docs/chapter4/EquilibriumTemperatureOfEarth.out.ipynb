{
  "cells": [
    {
      "cell_type": "markdown",
      "metadata": {},
      "source": [
        "# Equilibrium Temperature of Earth\n",
        "\n",
        "Von P. Walden\n",
        "\n",
        "### Calculation of the Equilibrium Temperature of Earth\n",
        "\n",
        "#### Equation 4.3(b) in Dessler."
      ],
      "id": "f5634468-d8b8-473a-b050-181b0520f061"
    },
    {
      "cell_type": "code",
      "execution_count": null,
      "metadata": {},
      "outputs": [],
      "source": [
        "S = 1360                  # W m-2\n",
        "a = 0.3                   # unitless\n",
        "Tequilibrium = (S*(1-a)/(4*5.67e-8))**(1/4)"
      ],
      "id": "cell-3"
    },
    {
      "cell_type": "code",
      "execution_count": null,
      "metadata": {},
      "outputs": [],
      "source": [
        "print('The Equilibrium Temperature of Earth is:', Tequilibrium, 'K')"
      ],
      "id": "cell-4"
    }
  ],
  "nbformat": 4,
  "nbformat_minor": 5,
  "metadata": {
    "kernelspec": {
      "name": "python3",
      "display_name": "Python 3 (ipykernel)",
      "language": "python"
    },
    "language_info": {
      "name": "python",
      "codemirror_mode": {
        "name": "ipython",
        "version": "3"
      },
      "file_extension": ".py",
      "mimetype": "text/x-python",
      "nbconvert_exporter": "python",
      "pygments_lexer": "ipython3",
      "version": "3.9.6"
    }
  }
}