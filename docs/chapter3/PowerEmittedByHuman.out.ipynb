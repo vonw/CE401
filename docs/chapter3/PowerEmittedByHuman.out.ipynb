{
  "cells": [
    {
      "cell_type": "markdown",
      "metadata": {},
      "source": [
        "# Power Emitted by a Human\n",
        "\n",
        "Von P. Walden\n",
        "\n",
        "### Calculate the Power Emitted by a Human\n",
        "\n",
        "<i>© Von P. Walden, Washington State University</i>\n",
        "\n",
        "Estimate the power (in W) given off by an average human being if they\n",
        "consume 2000 calories of food each day."
      ],
      "id": "228cb69c-6d4c-4d78-9484-183ed613b4ae"
    },
    {
      "cell_type": "code",
      "execution_count": null,
      "metadata": {},
      "outputs": [],
      "source": [
        "calories_per_day   = 2000\n",
        "joules_per_calorie = 4184\n",
        "seconds_per_day    = 24 * 60 * 60\n",
        "\n",
        "power_per_human    = calories_per_day * joules_per_calorie / seconds_per_day"
      ],
      "id": "cell-4"
    },
    {
      "cell_type": "code",
      "execution_count": null,
      "metadata": {},
      "outputs": [],
      "source": [
        "print(f'The power emitted by an average human is {power_per_human:{4.3}} W m-2')"
      ],
      "id": "cell-5"
    }
  ],
  "nbformat": 4,
  "nbformat_minor": 5,
  "metadata": {
    "kernelspec": {
      "name": "python3",
      "display_name": "Python 3 (ipykernel)",
      "language": "python"
    },
    "language_info": {
      "name": "python",
      "codemirror_mode": {
        "name": "ipython",
        "version": "3"
      },
      "file_extension": ".py",
      "mimetype": "text/x-python",
      "nbconvert_exporter": "python",
      "pygments_lexer": "ipython3",
      "version": "3.9.6"
    }
  }
}