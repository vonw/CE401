{
  "cells": [
    {
      "cell_type": "markdown",
      "metadata": {},
      "source": [
        "# Planck’s Law\n",
        "\n",
        "Von P. Walden\n",
        "\n",
        "### Calculate Planck curves as a function of wavelength and temperature\n",
        "\n",
        "<i>© Von P. Walden, Washington State University</i>"
      ],
      "id": "348d4550-82dc-4f8d-851a-877202bc317a"
    },
    {
      "cell_type": "code",
      "execution_count": null,
      "metadata": {},
      "outputs": [],
      "source": [
        "%pylab inline"
      ],
      "id": "cell-3"
    },
    {
      "cell_type": "markdown",
      "metadata": {},
      "source": [
        "#### Dessler, Figure 3.2a"
      ],
      "id": "5f0f69fe-c3cb-4f39-9fef-80f5dfabd9ea"
    },
    {
      "cell_type": "code",
      "execution_count": null,
      "metadata": {},
      "outputs": [],
      "source": [
        "c  = 2.998e8                              # m s-1\n",
        "h  = 6.626e-34                            # m2 kg s-1\n",
        "kB = 1.381e-23                            # m2 kg s-2 K-1\n",
        "l  = np.arange(0.25,20,0.25) * 1e-6       # meters\n",
        "T  = 300.                                 # K\n",
        "B  = 2*h*c**2 / (l**5 * (np.exp((h*c) / (l *kB * T)) - 1.)) * 1e-6      # W m-2 um-1\n",
        "spectralFlux  = pi * B"
      ],
      "id": "cell-5"
    },
    {
      "cell_type": "code",
      "execution_count": null,
      "metadata": {},
      "outputs": [],
      "source": [
        "plot(l/1e-6,spectralFlux)\n",
        "xlabel('Wavelength, microns');\n",
        "ylabel('Spectral Flux, W m-2 um-1');\n",
        "text(17.5,30,'300 K');"
      ],
      "id": "cell-6"
    },
    {
      "cell_type": "code",
      "execution_count": null,
      "metadata": {},
      "outputs": [],
      "source": [
        "l_max = l[np.where(spectralFlux==spectralFlux.max())]\n",
        "print(l_max)"
      ],
      "id": "cell-7"
    },
    {
      "cell_type": "code",
      "execution_count": null,
      "metadata": {},
      "outputs": [],
      "source": [
        "print(f\"Wiens Law gives wavelength of maximum flux at: {(2989/T):3.1f} um.\")"
      ],
      "id": "cell-8"
    },
    {
      "cell_type": "code",
      "execution_count": null,
      "metadata": {},
      "outputs": [],
      "source": [
        "print(f\"The Stefan-Boltzmann Law gives the total flux for this object as: {(5.67e-8*T**4):4.0f} W m-2.\")"
      ],
      "id": "cell-9"
    },
    {
      "cell_type": "markdown",
      "metadata": {},
      "source": [
        "#### Dessler, Figure 3.2b"
      ],
      "id": "4203d18e-c7bc-48aa-928c-32b34f654137"
    },
    {
      "cell_type": "code",
      "execution_count": null,
      "metadata": {},
      "outputs": [],
      "source": [
        "l = np.arange(0.25,12,0.05) * 1e-6      # meters\n",
        "T = 1600.                               # K\n",
        "B = 2*h*c**2 / (l**5 * (np.exp((h*c) / (l *kB * T)) - 1.)) * 1e-6      # W m-2 um-1\n",
        "spectralFlux = pi * B                   # W m-2 um-1"
      ],
      "id": "cell-11"
    },
    {
      "cell_type": "code",
      "execution_count": null,
      "metadata": {
        "scrolled": true
      },
      "outputs": [],
      "source": [
        "plot(l/1e-6,spectralFlux)\n",
        "xlabel('Wavelength, microns');\n",
        "ylabel('Spectral Flux, W m-2 um-1');\n",
        "text(10,120000,'1600 K');"
      ],
      "id": "cell-12"
    },
    {
      "cell_type": "code",
      "execution_count": null,
      "metadata": {},
      "outputs": [],
      "source": [
        "print(f\"Wiens law gives wavelength of maximum flux at: {(2989/T):3.1f} um.\")"
      ],
      "id": "cell-13"
    },
    {
      "cell_type": "code",
      "execution_count": null,
      "metadata": {},
      "outputs": [],
      "source": [
        "print(f\"The Stefan-Boltzmann Law gives the total flux for this object as: {(5.67e-8*T**4):4.0f} W m-2.\")"
      ],
      "id": "cell-14"
    },
    {
      "cell_type": "markdown",
      "metadata": {},
      "source": [
        "#### Dessler, Figure 3.2c"
      ],
      "id": "350e62a0-aab2-4f40-b91e-e1323653bdbe"
    },
    {
      "cell_type": "code",
      "execution_count": null,
      "metadata": {},
      "outputs": [],
      "source": [
        "l  = np.arange(0.01,3.5,0.01) * 1e-6      # meters\n",
        "T  = 6000.                                # K\n",
        "B  = pi * 2*h*c**2 / (l**5 * (np.exp((h*c) / (l *kB * T)) - 1.)) * 1e-6      # W m-2 um-1"
      ],
      "id": "cell-16"
    },
    {
      "cell_type": "code",
      "execution_count": null,
      "metadata": {},
      "outputs": [],
      "source": [
        "plot(l/1e-6,B)\n",
        "xlabel('Wavelength, microns');\n",
        "ylabel('Flux, W m-2 um-1');\n",
        "text(2.8,90e6,'6000 K');"
      ],
      "id": "cell-17"
    },
    {
      "cell_type": "code",
      "execution_count": null,
      "metadata": {},
      "outputs": [],
      "source": [
        "print(f\"Wiens law gives wavelength of maximum flux at: {(2989/T):3.1f} um.\")"
      ],
      "id": "cell-18"
    },
    {
      "cell_type": "code",
      "execution_count": null,
      "metadata": {},
      "outputs": [],
      "source": [
        "print(f\"The Stefan-Boltzmann Law gives the total flux for this object as: {(5.67e-8*T**4):4.0f} W m-2.\")"
      ],
      "id": "cell-19"
    }
  ],
  "nbformat": 4,
  "nbformat_minor": 5,
  "metadata": {
    "kernelspec": {
      "name": "python3",
      "display_name": "Python 3",
      "language": "python"
    },
    "language_info": {
      "name": "python",
      "codemirror_mode": {
        "name": "ipython",
        "version": "3"
      },
      "file_extension": ".py",
      "mimetype": "text/x-python",
      "nbconvert_exporter": "python",
      "pygments_lexer": "ipython3",
      "version": "3.10.5"
    },
    "vscode": {
      "interpreter": {
        "hash": "803aaea8018b5f3008b0095b367fec585783f18ef8cf99c7744bcd7257754e2c"
      }
    }
  }
}