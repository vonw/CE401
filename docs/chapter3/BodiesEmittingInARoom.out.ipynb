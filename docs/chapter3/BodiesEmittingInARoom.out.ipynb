{
  "cells": [
    {
      "cell_type": "markdown",
      "metadata": {},
      "source": [
        "# Bodies Emitting in a Room\n",
        "\n",
        "Von P. Walden\n",
        "\n",
        "### Bodies Emitting in a Room\n",
        "\n",
        "<i>© Von P. Walden, Washington State University</i>\n",
        "\n",
        "##### Stefan-Boltzmann constant"
      ],
      "id": "df9b897f-32dd-4a76-b14e-f7734f7b47f4"
    },
    {
      "cell_type": "code",
      "execution_count": null,
      "metadata": {},
      "outputs": [],
      "source": [
        "s = 5.67e-8                     # W m-2 K-4"
      ],
      "id": "cell-4"
    },
    {
      "cell_type": "markdown",
      "metadata": {},
      "source": [
        "#### Radiation from the walls of the room"
      ],
      "id": "c1c8cd2b-504e-4e97-ab73-445cba88ce0a"
    },
    {
      "cell_type": "code",
      "execution_count": null,
      "metadata": {
        "scrolled": true
      },
      "outputs": [],
      "source": [
        "Troom = 20 + 273.15             # K\n",
        "Flux_room = s * Troom**4            # W m-2\n",
        "\n",
        "print(f\"The room radiates approximately {Flux_room:5.1f} W m-2\")"
      ],
      "id": "cell-6"
    },
    {
      "cell_type": "markdown",
      "metadata": {},
      "source": [
        "#### Radiation from the bodies in the room"
      ],
      "id": "151de344-86f1-498a-85b6-eb0bc2d39a49"
    },
    {
      "cell_type": "code",
      "execution_count": null,
      "metadata": {},
      "outputs": [],
      "source": [
        "Tbody = 28 + 273.15             # K\n",
        "Flux_body = s * Tbody**4            # W m-2\n",
        "\n",
        "print(f\"Bodies radiate at approximately {Flux_body:5.1f} W m-2\")"
      ],
      "id": "cell-8"
    },
    {
      "cell_type": "markdown",
      "metadata": {},
      "source": [
        "##### Actual Body Temperature (in deg C)"
      ],
      "id": "8e75a482-3e15-419d-8806-d0688a85d1a8"
    },
    {
      "cell_type": "code",
      "execution_count": null,
      "metadata": {
        "scrolled": true
      },
      "outputs": [],
      "source": [
        "(37 * 9/5) + 32"
      ],
      "id": "cell-10"
    },
    {
      "cell_type": "markdown",
      "metadata": {},
      "source": [
        "#### Radiation from the bodies in the room (including emissivity)"
      ],
      "id": "0d769c7b-a2ea-4962-be1f-858db7b23b11"
    },
    {
      "cell_type": "code",
      "execution_count": null,
      "metadata": {},
      "outputs": [],
      "source": [
        "e     = 0.89\n",
        "Tbody = 37 + 273.15             # K\n",
        "Flux_body = e * s * Tbody**4            # W m-2\n",
        "\n",
        "print(f\"Bodies radiate at approximately {Flux_body:5.1f} W m-2\")"
      ],
      "id": "cell-12"
    },
    {
      "cell_type": "markdown",
      "metadata": {},
      "source": [
        "##### So if the emissivity of our bodies is 0.89 (or 89%), then we emit the same radiation as a blackbody at 28 C."
      ],
      "id": "88d9b0d1-4c7c-475b-840b-cc4eb5ef1fc7"
    }
  ],
  "nbformat": 4,
  "nbformat_minor": 5,
  "metadata": {
    "kernelspec": {
      "name": "python3",
      "display_name": "Python 3",
      "language": "python"
    },
    "language_info": {
      "name": "python",
      "codemirror_mode": {
        "name": "ipython",
        "version": "3"
      },
      "file_extension": ".py",
      "mimetype": "text/x-python",
      "nbconvert_exporter": "python",
      "pygments_lexer": "ipython3",
      "version": "3.10.5"
    },
    "vscode": {
      "interpreter": {
        "hash": "803aaea8018b5f3008b0095b367fec585783f18ef8cf99c7744bcd7257754e2c"
      }
    }
  }
}