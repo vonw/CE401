{
 "cells": [
  {
   "cell_type": "code",
   "execution_count": null,
   "metadata": {},
   "outputs": [],
   "source": [
    "%pylab inline"
   ]
  },
  {
   "cell_type": "code",
   "execution_count": null,
   "metadata": {},
   "outputs": [],
   "source": [
    "Tsun = 5779.   # Kelvin\n",
    "Rsun = 696300. # km\n",
    "Res = 149.6e6  # km (mean distance between the earth and sun)\n",
    "Rearth = 6370. # km\n",
    "\n",
    "So = (5.67e-8 * Tsun**4) * (4*pi*Rsun**2) / (4*pi*Res**2)\n",
    "print(So,' W m-2')"
   ]
  },
  {
   "cell_type": "code",
   "execution_count": null,
   "metadata": {},
   "outputs": [],
   "source": [
    "def earth_sun_distance(day):\n",
    "    a     = 149.6e6                   # km\n",
    "    e     = 0.017\n",
    "    theta = day * ((2*pi) / 365.25)     # This is only an approximation.\n",
    "    r = a*(1-e*e)/(1+e * cos(theta))\n",
    "    return r"
   ]
  },
  {
   "cell_type": "code",
   "execution_count": null,
   "metadata": {},
   "outputs": [],
   "source": [
    "def declination(day):\n",
    "    d = -23.44 * cos( (2.*pi) / 365.25 * (day + 10) )   # Approximate\n",
    "    return d"
   ]
  },
  {
   "cell_type": "code",
   "execution_count": null,
   "metadata": {},
   "outputs": [],
   "source": [
    "def solar_zenith_angle(latitude,declinationAngle,hour):\n",
    "    # All angles must be in radians !!\n",
    "    latitude = latitude * (pi/180.)\n",
    "    declinationAngle = declinationAngle * (pi/180.)\n",
    "    h = 15. * (12. - hour) * (pi/180.)\n",
    "    sza = arccos(sin(latitude)*sin(declinationAngle) + cos(latitude)*cos(declinationAngle)*cos(h))\n",
    "    return sza"
   ]
  },
  {
   "cell_type": "code",
   "execution_count": null,
   "metadata": {},
   "outputs": [],
   "source": [
    "day = 31 + 28 + 31 + 30 + 31 + 21"
   ]
  },
  {
   "cell_type": "code",
   "execution_count": null,
   "metadata": {},
   "outputs": [],
   "source": [
    "day"
   ]
  },
  {
   "cell_type": "code",
   "execution_count": null,
   "metadata": {},
   "outputs": [],
   "source": [
    "declination(day)"
   ]
  },
  {
   "cell_type": "code",
   "execution_count": null,
   "metadata": {},
   "outputs": [],
   "source": [
    "So * cos(solar_zenith_angle(46.73, declination(day), 12.))"
   ]
  },
  {
   "cell_type": "code",
   "execution_count": null,
   "metadata": {},
   "outputs": [],
   "source": []
  }
 ],
 "metadata": {
  "kernelspec": {
   "display_name": "Python 3 (ipykernel)",
   "language": "python",
   "name": "python3"
  },
  "language_info": {
   "codemirror_mode": {
    "name": "ipython",
    "version": 3
   },
   "file_extension": ".py",
   "mimetype": "text/x-python",
   "name": "python",
   "nbconvert_exporter": "python",
   "pygments_lexer": "ipython3",
   "version": "3.9.6"
  }
 },
 "nbformat": 4,
 "nbformat_minor": 4
}
