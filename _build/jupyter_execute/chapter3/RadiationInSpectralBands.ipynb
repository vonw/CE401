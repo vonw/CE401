{
 "cells": [
  {
   "attachments": {},
   "cell_type": "markdown",
   "metadata": {},
   "source": [
    "# Calculate Percentage of Radiation in Spectral Bands"
   ]
  },
  {
   "attachments": {},
   "cell_type": "markdown",
   "metadata": {},
   "source": [
    "<i>© Von P. Walden, Washington State University</i>"
   ]
  },
  {
   "cell_type": "code",
   "execution_count": 1,
   "metadata": {},
   "outputs": [],
   "source": [
    "import numpy as np\n",
    "import xarray as xr"
   ]
  },
  {
   "attachments": {},
   "cell_type": "markdown",
   "metadata": {},
   "source": [
    "### For a given temperature T, calculate the proportion of radiation emitted in various spectral bands (UV, visible, near-infrared, and infrared)."
   ]
  },
  {
   "cell_type": "code",
   "execution_count": 2,
   "metadata": {},
   "outputs": [],
   "source": [
    "# Temperature of the object\n",
    "#T  = 5700.                                 # K\n",
    "T  = 3300.                                 # K\n",
    "#T  = 300.                                  # K"
   ]
  },
  {
   "cell_type": "code",
   "execution_count": 3,
   "metadata": {},
   "outputs": [],
   "source": [
    "# Calculate the Planck radiation distribution between 0 and 50 microns\n",
    "c  = 2.998e8                              # m s-1\n",
    "h  = 6.626e-34                            # m2 kg s-1\n",
    "kB = 1.381e-23                            # m2 kg s-2 K-1\n",
    "dl = 0.01                                 # meters\n",
    "l  = np.arange(dl,50,dl) * 1e-6           # meters\n",
    "B  = 2*h*c**2 / (l**5 * (np.exp((h*c) / (l *kB * T)) - 1.)) * 1e-6      # W m-2 um-1\n",
    "spectralFlux  = np.pi * B      # W m-2 um-1\n",
    "\n",
    "# Convert spectralFlux to an Xarray data array\n",
    "spectralFlux = xr.DataArray(spectralFlux, coords={'wavelength': l*1e6}, dims=['wavelength'])\n",
    "\n",
    "# Sum the radiation in uv, vis, nir and ir spectral bands:\n",
    "#     UV            = 0   to 0.3 microns\n",
    "#     visible       = 0.3 to 0.7 microns\n",
    "#     near infrared = 0.7 to 4 microns\n",
    "#     infrared      = 4   to 50 microns\n",
    "uv  = spectralFlux.sel(wavelength=slice(0,0.3)).sum()*dl\n",
    "vis = spectralFlux.sel(wavelength=slice(0.3,0.7)).sum()*dl\n",
    "nir = spectralFlux.sel(wavelength=slice(0.7,4)).sum()*dl\n",
    "ir  = spectralFlux.sel(wavelength=slice(4,50)).sum()*dl\n",
    "\n",
    "# Calculate the percent contribution in each band\n",
    "Flux  = spectralFlux.sum()*dl                           # Total flux in W m-2; Should be nearly equal to sigma * T^4 !!\n",
    "p_uv  = uv / Flux * 100\n",
    "p_vis = vis / Flux * 100\n",
    "p_nir = nir / Flux * 100\n",
    "p_ir  = ir / Flux * 100"
   ]
  },
  {
   "cell_type": "code",
   "execution_count": 4,
   "metadata": {},
   "outputs": [
    {
     "name": "stdout",
     "output_type": "stream",
     "text": [
      "Percent UV:             0.034502797207032025\n",
      "Percent visible:        11.862449236428064\n",
      "Percent near infrared:  83.81426836992065\n",
      "Percent infrared:       4.327490415712202\n",
      "Total percent:          100.03871081926796\n"
     ]
    }
   ],
   "source": [
    "#%% Sum all the spectral bands; should be close to 100% !!\n",
    "print('Percent UV:            ', p_uv.values)\n",
    "print('Percent visible:       ', p_vis.values)\n",
    "print('Percent near infrared: ', p_nir.values)\n",
    "print('Percent infrared:      ', p_ir.values)\n",
    "\n",
    "print('Total percent:         ', p_uv.values + p_vis.values + p_nir.values + p_ir.values)"
   ]
  }
 ],
 "metadata": {
  "kernelspec": {
   "display_name": "Python 3",
   "language": "python",
   "name": "python3"
  },
  "language_info": {
   "codemirror_mode": {
    "name": "ipython",
    "version": 3
   },
   "file_extension": ".py",
   "mimetype": "text/x-python",
   "name": "python",
   "nbconvert_exporter": "python",
   "pygments_lexer": "ipython3",
   "version": "3.10.5"
  },
  "vscode": {
   "interpreter": {
    "hash": "803aaea8018b5f3008b0095b367fec585783f18ef8cf99c7744bcd7257754e2c"
   }
  }
 },
 "nbformat": 4,
 "nbformat_minor": 2
}