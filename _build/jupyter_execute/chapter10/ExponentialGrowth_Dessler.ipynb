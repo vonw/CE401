{
 "cells": [
  {
   "cell_type": "markdown",
   "id": "abca4f93-7626-40fe-bb34-38dc43ba5bf8",
   "metadata": {},
   "source": [
    "# Exponential Growth"
   ]
  },
  {
   "cell_type": "markdown",
   "id": "8bff1660-5fed-45eb-b5f0-9c2770a36c11",
   "metadata": {},
   "source": [
    "## Examples from *Introduction to Modern Climate Change* by Andrew Dessler"
   ]
  },
  {
   "cell_type": "code",
   "execution_count": 1,
   "id": "3b9bcb55-adcd-4258-9404-7a850825ad9e",
   "metadata": {},
   "outputs": [],
   "source": [
    "import numpy as np"
   ]
  },
  {
   "cell_type": "markdown",
   "id": "5d65ee2b-daa1-4b35-826f-af47c4e6c4ea",
   "metadata": {},
   "source": [
    "### Equation 10.1 and Table 10.1\n",
    "\n",
    "$$ F = P (1 + rate/100)^n $$\n",
    "\n",
    "where F is the future values, P is the initial value, rate is the percentage rate of increase (interest), and n is the number of years."
   ]
  },
  {
   "cell_type": "code",
   "execution_count": 2,
   "id": "a96261a4-75dc-4423-8cb4-83cee0caed25",
   "metadata": {},
   "outputs": [
    {
     "name": "stdout",
     "output_type": "stream",
     "text": [
      "Wow! That $100 investment really grew! It is $1515867.36 after 101 years!\n"
     ]
    }
   ],
   "source": [
    "P = 100\n",
    "rate = 10\n",
    "n = 101\n",
    "F = P * (1 + rate/100)**n\n",
    "\n",
    "print('Wow! That $100 investment really grew! It is $' + f'{F:.2f}' + ' after 101 years!')"
   ]
  },
  {
   "cell_type": "markdown",
   "id": "0c6119e0-c92e-4c70-8c16-d9f6ed1a62d8",
   "metadata": {},
   "source": [
    "### The Rule of 72"
   ]
  },
  {
   "cell_type": "markdown",
   "id": "0cce4730-5179-4fc3-90dd-eff513aac1a7",
   "metadata": {},
   "source": [
    "To determine the doubling time, one can recognize that F/P is 2. So, then one can determine n if the rate is known.\n",
    "\n",
    "$$ \\frac{F}{P} = 2 = (1 + r)^n $$\n",
    "\n",
    "where r is the fractional rate of increase (not the percentage)\n",
    "\n",
    "Take the natural log of both sides of the equation.\n",
    "\n",
    "$$ ln(2) = ln[(1 + r)^n] = n * ln(1 + r) $$\n",
    "\n",
    "So, \n",
    "\n",
    "$$ n = \\frac{ln(2)}{ln(1 + r)} $$\n",
    "\n",
    "$$ n = \\frac{ln(2)}{r} \\frac{r}{ln(1 + r)} $$\n",
    "\n",
    "If r is small (e.g., 8% = 0.08), then \n",
    "\n",
    "$$ \\frac{r}{ln(1 + r)} = \\frac{0.08}{ln(1 + 0.08)} = 1.03949 $$\n",
    "\n",
    "and \n",
    "\n",
    "$$ n \\approx \\frac{0.72}{r} \\approx \\frac{72}{100 * r} $$\n",
    "\n",
    "\n"
   ]
  },
  {
   "cell_type": "code",
   "execution_count": 3,
   "id": "0ca959f4-0b1d-4876-ae16-f3378b0965f7",
   "metadata": {},
   "outputs": [
    {
     "data": {
      "text/plain": [
       "0.7205174673600471"
      ]
     },
     "execution_count": 3,
     "metadata": {},
     "output_type": "execute_result"
    }
   ],
   "source": [
    "r = 0.08\n",
    "np.log(2) * r / np.log(1 + r)"
   ]
  },
  {
   "cell_type": "markdown",
   "id": "852436b2-7483-4bd2-b28c-12958d103617",
   "metadata": {},
   "source": [
    "So, if the rate of interest is constant at 7.2%, it will take 10 years to double your money."
   ]
  },
  {
   "attachments": {},
   "cell_type": "markdown",
   "id": "d50c0191",
   "metadata": {},
   "source": [
    "---"
   ]
  },
  {
   "cell_type": "markdown",
   "id": "9a4a9153-a7ab-46cd-b540-2f6b91370fc1",
   "metadata": {},
   "source": [
    "## Discounting"
   ]
  },
  {
   "attachments": {},
   "cell_type": "markdown",
   "id": "7e0d04b4-5ded-4052-a2bd-cf87ec651993",
   "metadata": {},
   "source": [
    "Discounting simply solves our original equation for P.\n",
    "\n",
    "$$ P = \\frac{F}{(1 + rate/100)^n} $$\n",
    "\n",
    "The value today of a future expense or benefit is known as the *present value*. The process of calculating the present value is referred to as *discounting*. *\"Money today is worth more to you than money in the future.\"*"
   ]
  },
  {
   "attachments": {},
   "cell_type": "markdown",
   "id": "bbe7bfd5",
   "metadata": {},
   "source": [
    "### The utility of discounting is that it allows one to compare costs and benefits that occur at different times."
   ]
  },
  {
   "attachments": {},
   "cell_type": "markdown",
   "id": "ee3452b0",
   "metadata": {},
   "source": [
    "---"
   ]
  },
  {
   "attachments": {},
   "cell_type": "markdown",
   "id": "7f1d1e95",
   "metadata": {},
   "source": [
    "How much would we need to invest to have $25,000 in 15 years at a 5% interest rate."
   ]
  },
  {
   "cell_type": "code",
   "execution_count": 4,
   "id": "e97813c5-bfc8-4494-bb2f-4e6e9b2e0b13",
   "metadata": {},
   "outputs": [
    {
     "name": "stdout",
     "output_type": "stream",
     "text": [
      "We would need to invest $12025.43 now (at 5%) to have $25000 in 15 years.\n",
      "\n",
      "$12025.43 is the present value.\n",
      "This calculation is called discounting.\n",
      "\n",
      "The rate of 5% is called the discount rate, because it quantifies the rate at which money loses value in the future.\n",
      "In other words, money loses 5% of its value each year.\n"
     ]
    }
   ],
   "source": [
    "F = 25000\n",
    "rate = 5\n",
    "n = 15\n",
    "P = F / (1 + rate/100)**n\n",
    "\n",
    "print(f'We would need to invest ${P:.2f} now (at 5%) to have $25000 in 15 years.')\n",
    "print()\n",
    "print(f'${P:.2f} is the present value.')\n",
    "print('This calculation is called discounting.')\n",
    "print()\n",
    "print('The rate of 5% is called the discount rate, because it quantifies the rate at which money loses value in the future.')\n",
    "print('In other words, money loses 5% of its value each year.')"
   ]
  },
  {
   "attachments": {},
   "cell_type": "markdown",
   "id": "c05dddf3",
   "metadata": {},
   "source": [
    "---"
   ]
  },
  {
   "attachments": {},
   "cell_type": "markdown",
   "id": "4878153f-9d21-488e-8937-e728885a8d90",
   "metadata": {},
   "source": [
    "### Example 10.1: What would you do? The TV example!"
   ]
  },
  {
   "attachments": {},
   "cell_type": "markdown",
   "id": "991f9a1f",
   "metadata": {},
   "source": [
    "Discounting can be used to help make financial decisions.\n",
    "\n",
    "Let's say you're buying a new TV and you're given two payment options:\n",
    "\n",
    "1. Pay $1000. now.\n",
    "2. Get it with no money down and pay $1100. in 1 year.\n",
    "\n",
    "Which option is best for you?"
   ]
  },
  {
   "cell_type": "code",
   "execution_count": 5,
   "id": "5f15e675",
   "metadata": {},
   "outputs": [
    {
     "ename": "SyntaxError",
     "evalue": "unterminated string literal (detected at line 2) (4269026397.py, line 2)",
     "output_type": "error",
     "traceback": [
      "\u001b[0;36m  Input \u001b[0;32mIn [5]\u001b[0;36m\u001b[0m\n\u001b[0;31m    print('You pay $1000. now, so it costs you $1000. in today''s dollars.)\u001b[0m\n\u001b[0m                                                               ^\u001b[0m\n\u001b[0;31mSyntaxError\u001b[0m\u001b[0;31m:\u001b[0m unterminated string literal (detected at line 2)\n"
     ]
    }
   ],
   "source": [
    "# No discounting.\n",
    "print('You pay $1000. now, so it costs you $1000. in today''s dollars.)"
   ]
  },
  {
   "cell_type": "markdown",
   "id": "b3a4257b",
   "metadata": {},
   "source": [
    "But what is the present value of $1100. in one year."
   ]
  },
  {
   "cell_type": "code",
   "execution_count": 12,
   "id": "6e21bc6a-5352-41fd-8cdf-0728a60691c7",
   "metadata": {},
   "outputs": [
    {
     "name": "stdout",
     "output_type": "stream",
     "text": [
      "The value of the money after 1 year AT A DISCOUNT RATE OF 5% is $1050.00\n"
     ]
    }
   ],
   "source": [
    "# Discount option at 5% in one year\n",
    "P = 1000\n",
    "discountRate = 5\n",
    "n = 1\n",
    "F = P * (1 + discountRate/100)**n\n",
    "\n",
    "print('The value of the money after 1 year AT A DISCOUNT RATE OF 5% is $' + f'{F:.2f}')"
   ]
  },
  {
   "attachments": {},
   "cell_type": "markdown",
   "id": "acd8046d",
   "metadata": {},
   "source": [
    "The option that costs you the least amount of money is the one with the lowest present value.\n",
    "\n",
    "Therefore, you choose to pay $1000. now (because the present value of $1100. in one year from now, discounted at 5%, is $1050.)"
   ]
  },
  {
   "attachments": {},
   "cell_type": "markdown",
   "id": "658d3c99",
   "metadata": {},
   "source": [
    "But what is the discount rate is higher, say 15%?"
   ]
  },
  {
   "cell_type": "code",
   "execution_count": 13,
   "id": "36d976e7-db53-4def-8a71-6fa09431dad2",
   "metadata": {},
   "outputs": [
    {
     "name": "stdout",
     "output_type": "stream",
     "text": [
      "The value of the money after 1 year AT A DISCOUNT RATE OF 15% is $956.52\n"
     ]
    }
   ],
   "source": [
    "F = 1100\n",
    "discountRate = 15\n",
    "n = 1\n",
    "P = F / (1 + discountRate/100)**n\n",
    "\n",
    "print('The value of the money after 1 year AT A DISCOUNT RATE OF 15% is $' + f'{P:.2f}')"
   ]
  },
  {
   "attachments": {},
   "cell_type": "markdown",
   "id": "682d0b87",
   "metadata": {},
   "source": [
    "Now the option that costs you the least amount of money is the present value using the 15% discount rate.\n",
    "\n",
    "Therefore, you choose to pay $1100. next because it will only cost you $956 in today''s dollars."
   ]
  },
  {
   "attachments": {},
   "cell_type": "markdown",
   "id": "090f8617",
   "metadata": {},
   "source": [
    "### The choice of discount rate makes a profound difference in what you choose to do."
   ]
  },
  {
   "attachments": {},
   "cell_type": "markdown",
   "id": "63a2a371",
   "metadata": {},
   "source": [
    "---"
   ]
  },
  {
   "cell_type": "markdown",
   "id": "011d3ecb-b7b3-4b5c-baf4-8e2f6864d32e",
   "metadata": {},
   "source": [
    "### Cost-Benefit Analysis"
   ]
  },
  {
   "cell_type": "markdown",
   "id": "4f45ca31-9ea2-4689-8375-fe3e9fcb6bb6",
   "metadata": {},
   "source": [
    "Imagine our choice is between spending 100 billion today or 1 trillion in 100 years. Compare these two using a discount rate of 3%."
   ]
  },
  {
   "cell_type": "code",
   "execution_count": null,
   "id": "e93966c1-7468-4cb3-966a-d642cf8ad1f8",
   "metadata": {},
   "outputs": [],
   "source": [
    "rate = 3\n",
    "F = 1e12\n",
    "n = 100\n",
    "P = F / (1 + rate/100)**n\n",
    "\n",
    "print('The value of the money after 100 years AT A DISCOUNT RATE OF 3% is $' + f'{P:.2f}')"
   ]
  },
  {
   "cell_type": "markdown",
   "id": "be3f6cc7-1a10-446f-9b05-61e358615614",
   "metadata": {},
   "source": [
    "Note that this equals only 52 billion, so we would prefer to pay 1 trillion in 100 years than pay 100 billion today"
   ]
  },
  {
   "attachments": {},
   "cell_type": "markdown",
   "id": "5dad181b-23a0-41c4-9882-2249347cd162",
   "metadata": {},
   "source": [
    "---"
   ]
  },
  {
   "attachments": {},
   "cell_type": "markdown",
   "id": "300b3840",
   "metadata": {},
   "source": [
    "## So how do we determine the correct discount rate to use?"
   ]
  },
  {
   "attachments": {},
   "cell_type": "markdown",
   "id": "57458ebf",
   "metadata": {},
   "source": [
    "The discount rate is a combination of two different judgements:\n",
    "\n",
    "1. *Time discounting*, which is the preference to consume now rather than later.\n",
    "  Positive time discounting means that goods and services now are worth more than they are later.\n",
    "\n",
    "1. *Growth discounting* is the fact that a dollar means more to poor people than it does to rich people.\n",
    "  Would you pick up a $1 bill if you saw it on the street? What about a $20 bill?"
   ]
  },
  {
   "attachments": {},
   "cell_type": "markdown",
   "id": "b6aee869",
   "metadata": {},
   "source": [
    "The discount rate used in present-value calculations is determined by combining the time and growth discount rates. \n",
    "\n",
    "BUT economists argue about which rate to use: 1% to 4%."
   ]
  },
  {
   "attachments": {},
   "cell_type": "markdown",
   "id": "3a1367f7",
   "metadata": {},
   "source": [
    "### The choice of discount rate makes a huge difference in climate problems."
   ]
  }
 ],
 "metadata": {
  "kernelspec": {
   "display_name": "Python 3 (ipykernel)",
   "language": "python",
   "name": "python3"
  },
  "language_info": {
   "codemirror_mode": {
    "name": "ipython",
    "version": 3
   },
   "file_extension": ".py",
   "mimetype": "text/x-python",
   "name": "python",
   "nbconvert_exporter": "python",
   "pygments_lexer": "ipython3",
   "version": "3.10.5"
  }
 },
 "nbformat": 4,
 "nbformat_minor": 5
}