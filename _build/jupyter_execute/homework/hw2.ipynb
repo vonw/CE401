{
 "cells": [
  {
   "cell_type": "markdown",
   "id": "3573a5a7-9f4a-46b0-8dee-988a5fab6c51",
   "metadata": {},
   "source": [
    "# Python code for Homework #2"
   ]
  },
  {
   "cell_type": "markdown",
   "id": "6bcf4e83-cd0b-4c46-a79d-4e74f1965efe",
   "metadata": {},
   "source": [
    "<i>© Von P. Walden, Washington State University</i>"
   ]
  },
  {
   "cell_type": "code",
   "execution_count": 1,
   "id": "b8910759-ca3c-4807-a530-22b630e3ece3",
   "metadata": {},
   "outputs": [],
   "source": [
    "import numpy as np\n",
    "import xarray as xr"
   ]
  },
  {
   "cell_type": "markdown",
   "id": "aad08ab3-2df2-47dd-820c-fccf9a18b112",
   "metadata": {},
   "source": [
    "---"
   ]
  },
  {
   "cell_type": "markdown",
   "id": "7531dad1-8bd4-4b5e-b2d3-840fa0b59d87",
   "metadata": {
    "tags": []
   },
   "source": [
    "## Useful code for problems 1, 2 and 3."
   ]
  },
  {
   "cell_type": "code",
   "execution_count": 2,
   "id": "6dce1dbc-5e4d-4874-9b32-bf720e495e00",
   "metadata": {},
   "outputs": [
    {
     "name": "stdout",
     "output_type": "stream",
     "text": [
      "Percent UV:             0.03450279720703203\n",
      "Percent visible:        11.862449236428064\n",
      "Percent near infrared:  83.81426836992065\n",
      "Percent infrared:       4.327490415712202\n",
      "Total percent:          100.03871081926796\n"
     ]
    }
   ],
   "source": [
    "# Temperature of the object\n",
    "#T  = 5700.                                 # K\n",
    "T  = 3300.                                 # K\n",
    "#T  = 300.                                  # K\n",
    "\n",
    "# Calculate the Planck radiation distribution between 0 and 50 microns\n",
    "c  = 2.998e8                              # m s-1\n",
    "h  = 6.626e-34                            # m2 kg s-1\n",
    "kB = 1.381e-23                            # m2 kg s-2 K-1\n",
    "dl = 0.01                                 # meters\n",
    "l  = np.arange(dl,50,dl) * 1e-6           # meters\n",
    "B  = np.pi * 2*h*c**2 / (l**5 * (np.exp((h*c) / (l *kB * T)) - 1.)) * 1e-6      # W m-2 um-1\n",
    "\n",
    "# Convert B to an Xarray data array\n",
    "B = xr.DataArray(B, coords={'wavelength': l*1e6}, dims=['wavelength'])\n",
    "\n",
    "# Sum the radiation in uv, vis, nir and ir spectral bands:\n",
    "#     UV            = 0   to 0.3 microns\n",
    "#     visible       = 0.3 to 0.7 microns\n",
    "#     near infrared = 0.7 to 4 microns\n",
    "#     infrared      = 4   to 50 microns\n",
    "uv  = B.sel(wavelength=slice(0,0.3)).sum()*dl\n",
    "vis = B.sel(wavelength=slice(0.3,0.7)).sum()*dl\n",
    "nir = B.sel(wavelength=slice(0.7,4)).sum()*dl\n",
    "ir  = B.sel(wavelength=slice(4,50)).sum()*dl\n",
    "\n",
    "# Calculate the percent contribution in each band\n",
    "E     = B.sum()*dl                           # Total flux in W m-2; Should be nearly equal to sigma * T^4 !!\n",
    "p_uv  = uv / E * 100\n",
    "p_vis = vis / E * 100\n",
    "p_nir = nir / E * 100\n",
    "p_ir  = ir / E * 100\n",
    "\n",
    "#%% Sum all the spectral bands; should be close to 100% !!\n",
    "print('Percent UV:            ', p_uv.values)\n",
    "print('Percent visible:       ', p_vis.values)\n",
    "print('Percent near infrared: ', p_nir.values)\n",
    "print('Percent infrared:      ', p_ir.values)\n",
    "\n",
    "print('Total percent:         ', p_uv.values + p_vis.values + p_nir.values + p_ir.values)"
   ]
  },
  {
   "cell_type": "markdown",
   "id": "716ad982-9ffb-44f5-bf07-ecb6e1b1b7ce",
   "metadata": {},
   "source": [
    "---"
   ]
  },
  {
   "cell_type": "markdown",
   "id": "d6f24be9-50ed-4118-9e64-1513c3f6a01e",
   "metadata": {},
   "source": [
    "## Useful code for problems 5 and 7."
   ]
  },
  {
   "cell_type": "markdown",
   "id": "31d614a0-61cf-40ab-b9b5-8bf6c9ef34d3",
   "metadata": {},
   "source": [
    "### Useful links\n",
    "\n",
    "#### [Information on the Solar \"Constant\"](https://en.wikipedia.org/wiki/Solar_cycle)\n",
    "\n",
    "#### [Information on Earth's orbit](https://en.wikipedia.org/wiki/Earth%27s_orbit)"
   ]
  },
  {
   "cell_type": "markdown",
   "id": "43ff7259-75a1-4c27-a219-c05fbcee27bc",
   "metadata": {},
   "source": [
    "### Calculate the flux emitted by the Sun in W m-2 using the Stefan-Boltzmann Law."
   ]
  },
  {
   "cell_type": "code",
   "execution_count": 3,
   "id": "94436352-3b56-44c3-a2e0-cab15ac4f7db",
   "metadata": {},
   "outputs": [
    {
     "name": "stdout",
     "output_type": "stream",
     "text": [
      "The flux from the Sun is: 62934436.58666411 W m-2\n"
     ]
    }
   ],
   "source": [
    "Tsun = 5772                     # K; chosen to yield S = 1361 W m-2\n",
    "E    = 5.67e-8 * Tsun**4        # W m-2\n",
    "print('The flux from the Sun is:',E, 'W m-2')"
   ]
  },
  {
   "cell_type": "markdown",
   "id": "941e0344-279d-480b-acf1-c35c2cb81f98",
   "metadata": {},
   "source": [
    "### Calculate the total power emitted by the Sun's surface."
   ]
  },
  {
   "cell_type": "code",
   "execution_count": 4,
   "id": "cc88f154-b1c4-4fef-8394-b102d7f42601",
   "metadata": {},
   "outputs": [
    {
     "name": "stdout",
     "output_type": "stream",
     "text": [
      "Power emitted by the Sun is: 3.8277381380933445e+26 Watts\n"
     ]
    }
   ],
   "source": [
    "Rs   = 695.7e6                    # meters\n",
    "As   = 4*np.pi*Rs**2                 # m2\n",
    "Psun = E * As\n",
    "print('Power emitted by the Sun is:', Psun, 'Watts')"
   ]
  },
  {
   "cell_type": "markdown",
   "id": "526c8964-376f-4fba-86cb-4c9ef35cd6c3",
   "metadata": {},
   "source": [
    "### Determine the flux (in W m-2) from the Sun, but at the distance of the Earth's orbit. NOTE that the total power from the Sun is spread over a very large area (in space...)"
   ]
  },
  {
   "cell_type": "code",
   "execution_count": 5,
   "id": "fa4068df-7eca-41e2-be20-dc7f24669e0d",
   "metadata": {},
   "outputs": [
    {
     "name": "stdout",
     "output_type": "stream",
     "text": [
      "The Solar Constant for Earth is: 1361.0346073015646 W m-2\n"
     ]
    }
   ],
   "source": [
    "# Average radius of Earth's orbit around the Sun.\n",
    "Res   = 149.6e9                    # meters\n",
    "# Surface area of a sphere with radius equal to Re.\n",
    "Aes   = 4*np.pi*Res**2                # m2\n",
    "# Solar Constant\n",
    "S     = Psun / Aes\n",
    "print('The Solar Constant for Earth is:', S, 'W m-2')"
   ]
  },
  {
   "cell_type": "markdown",
   "id": "d02908a2-2845-4e5f-b358-c71137cc34e3",
   "metadata": {},
   "source": [
    "### Calculate the power is intercepted by the Earth as the Sun's rays pass by it."
   ]
  },
  {
   "cell_type": "code",
   "execution_count": 6,
   "id": "d93b83a1-7942-49a1-a4e5-1b2c332e0d69",
   "metadata": {},
   "outputs": [
    {
     "name": "stdout",
     "output_type": "stream",
     "text": [
      "The amount of power (in Watts) that is constantly intercepted by Earth is: 1.7513743661383942e+17 Watts\n"
     ]
    }
   ],
   "source": [
    "Re   = 6.4e6                        # meters\n",
    "Aint = np.pi*Re**2                     # Area intercepted by Earth in m2\n",
    "Pe   = S * Aint\n",
    "print('The amount of power (in Watts) that is constantly intercepted by Earth is:', Pe, 'Watts')"
   ]
  },
  {
   "cell_type": "code",
   "execution_count": null,
   "id": "ed623679",
   "metadata": {},
   "outputs": [],
   "source": []
  }
 ],
 "metadata": {
  "interpreter": {
   "hash": "4969026bb4efba5c67a288f47febad1cda2ea1ab82f3677a2de1fea6a432fabc"
  },
  "kernelspec": {
   "display_name": "work",
   "language": "python",
   "name": "python3"
  },
  "language_info": {
   "codemirror_mode": {
    "name": "ipython",
    "version": 3
   },
   "file_extension": ".py",
   "mimetype": "text/x-python",
   "name": "python",
   "nbconvert_exporter": "python",
   "pygments_lexer": "ipython3",
   "version": "3.9.6"
  }
 },
 "nbformat": 4,
 "nbformat_minor": 5
}