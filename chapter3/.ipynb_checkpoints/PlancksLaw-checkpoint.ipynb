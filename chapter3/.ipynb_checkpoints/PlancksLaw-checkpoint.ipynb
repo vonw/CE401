{
 "cells": [
  {
   "cell_type": "raw",
   "metadata": {},
   "source": [
    "---\n",
    "title: Planck's Law\n",
    "author: Von P. Walden\n",
    "---"
   ]
  },
  {
   "cell_type": "markdown",
   "metadata": {},
   "source": [
    "### Calculate Planck curves as a function of wavelength and temperature"
   ]
  },
  {
   "cell_type": "markdown",
   "metadata": {},
   "source": [
    "<i>© Von P. Walden, Washington State University</i>"
   ]
  },
  {
   "cell_type": "code",
   "execution_count": null,
   "metadata": {},
   "outputs": [],
   "source": [
    "%matplotlib inline\n",
    "\n",
    "import numpy as np\n",
    "import matplotlib.pyplot as plt"
   ]
  },
  {
   "cell_type": "markdown",
   "metadata": {},
   "source": [
    "#### Dessler, Figure 3.2a"
   ]
  },
  {
   "cell_type": "code",
   "execution_count": null,
   "metadata": {},
   "outputs": [],
   "source": [
    "c  = 2.998e8                              # m s-1\n",
    "h  = 6.626e-34                            # m2 kg s-1\n",
    "kB = 1.381e-23                            # m2 kg s-2 K-1\n",
    "l  = np.arange(0.25,20,0.25) * 1e-6       # meters\n",
    "T  = 300.                                 # K\n",
    "B  = 2*h*c**2 / (l**5 * (np.exp((h*c) / (l *kB * T)) - 1.)) * 1e-6      # W m-2 um-1\n",
    "spectralFlux  = np.pi * B"
   ]
  },
  {
   "cell_type": "code",
   "execution_count": null,
   "metadata": {},
   "outputs": [],
   "source": [
    "plt.plot(l/1e-6,spectralFlux)\n",
    "plt.xlabel('Wavelength, microns');\n",
    "plt.ylabel('Spectral Flux, W m-2 um-1');\n",
    "plt.text(17.5,30,'300 K');"
   ]
  },
  {
   "cell_type": "code",
   "execution_count": null,
   "metadata": {},
   "outputs": [],
   "source": [
    "l_max = l[np.where(spectralFlux==spectralFlux.max())]\n",
    "print(l_max)"
   ]
  },
  {
   "cell_type": "code",
   "execution_count": null,
   "metadata": {},
   "outputs": [],
   "source": [
    "print(f\"Wiens Law gives wavelength of maximum flux at: {(2898/T):4.2f} um.\")"
   ]
  },
  {
   "cell_type": "code",
   "execution_count": null,
   "metadata": {},
   "outputs": [],
   "source": [
    "print(f\"The Stefan-Boltzmann Law gives the total flux for this object as: {(5.67e-8*T**4):4.0f} W m-2.\")"
   ]
  },
  {
   "cell_type": "markdown",
   "metadata": {},
   "source": [
    "#### Dessler, Figure 3.2b"
   ]
  },
  {
   "cell_type": "code",
   "execution_count": null,
   "metadata": {},
   "outputs": [],
   "source": [
    "l = np.arange(0.25,12,0.05) * 1e-6      # meters\n",
    "T = 1600.                               # K\n",
    "B = 2*h*c**2 / (l**5 * (np.exp((h*c) / (l *kB * T)) - 1.)) * 1e-6      # W m-2 um-1\n",
    "spectralFlux = pi * B                   # W m-2 um-1"
   ]
  },
  {
   "cell_type": "code",
   "execution_count": null,
   "metadata": {
    "scrolled": true
   },
   "outputs": [],
   "source": [
    "plt.plot(l/1e-6,spectralFlux)\n",
    "plt.xlabel('Wavelength, microns');\n",
    "plt.ylabel('Spectral Flux, W m-2 um-1');\n",
    "plt.text(10,120000,'1600 K');"
   ]
  },
  {
   "cell_type": "code",
   "execution_count": null,
   "metadata": {},
   "outputs": [],
   "source": [
    "print(f\"Wiens law gives wavelength of maximum flux at: {(2898/T):3.1f} um.\")"
   ]
  },
  {
   "cell_type": "code",
   "execution_count": null,
   "metadata": {},
   "outputs": [],
   "source": [
    "print(f\"The Stefan-Boltzmann Law gives the total flux for this object as: {(5.67e-8*T**4):4.0f} W m-2.\")"
   ]
  },
  {
   "cell_type": "markdown",
   "metadata": {},
   "source": [
    "#### Dessler, Figure 3.2c"
   ]
  },
  {
   "cell_type": "code",
   "execution_count": null,
   "metadata": {},
   "outputs": [],
   "source": [
    "l  = np.arange(0.01,3.5,0.01) * 1e-6      # meters\n",
    "T  = 6000.                                # K\n",
    "B  = pi * 2*h*c**2 / (l**5 * (np.exp((h*c) / (l *kB * T)) - 1.)) * 1e-6      # W m-2 um-1"
   ]
  },
  {
   "cell_type": "code",
   "execution_count": null,
   "metadata": {},
   "outputs": [],
   "source": [
    "plt.plot(l/1e-6,B)\n",
    "plt.xlabel('Wavelength, microns');\n",
    "plt.ylabel('Flux, W m-2 um-1');\n",
    "plt.text(2.8,90e6,'6000 K');"
   ]
  },
  {
   "cell_type": "code",
   "execution_count": null,
   "metadata": {},
   "outputs": [],
   "source": [
    "print(f\"Wiens law gives wavelength of maximum flux at: {(2898/T):3.1f} um.\")"
   ]
  },
  {
   "cell_type": "code",
   "execution_count": null,
   "metadata": {},
   "outputs": [],
   "source": [
    "print(f\"The Stefan-Boltzmann Law gives the total flux for this object as: {(5.67e-8*T**4):4.0f} W m-2.\")"
   ]
  }
 ],
 "metadata": {
  "kernelspec": {
   "display_name": "Python 3 (ipykernel)",
   "language": "python",
   "name": "python3"
  },
  "language_info": {
   "codemirror_mode": {
    "name": "ipython",
    "version": 3
   },
   "file_extension": ".py",
   "mimetype": "text/x-python",
   "name": "python",
   "nbconvert_exporter": "python",
   "pygments_lexer": "ipython3",
   "version": "3.12.7"
  },
  "vscode": {
   "interpreter": {
    "hash": "803aaea8018b5f3008b0095b367fec585783f18ef8cf99c7744bcd7257754e2c"
   }
  }
 },
 "nbformat": 4,
 "nbformat_minor": 4
}
