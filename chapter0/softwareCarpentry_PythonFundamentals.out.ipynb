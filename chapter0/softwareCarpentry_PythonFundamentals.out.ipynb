{
  "cells": [
    {
      "cell_type": "markdown",
      "metadata": {},
      "source": [
        "# Software Carpentry - Python Fundamentals\n",
        "\n",
        "Von P. Walden\n",
        "\n",
        "### Software Carpentry - Python Fundamentals\n",
        "\n",
        "Read [Software Carpentry’s Python\n",
        "Fundamentals](https://swcarpentry.github.io/python-novice-inflammation/01-intro.html).\n",
        "Start by scrolling down to the section on Variables.\n",
        "\n",
        "Using notebook cells below, type in the commands in the instructions to\n",
        "check your knowledge of Python variables. (The cell below is the first\n",
        "example.)"
      ],
      "id": "ffc7425b-7eef-4a0f-894b-ebe67ca5f24b"
    },
    {
      "cell_type": "code",
      "execution_count": null,
      "metadata": {},
      "outputs": [],
      "source": [
        "3 + 5 * 4"
      ],
      "id": "cell-4"
    }
  ],
  "nbformat": 4,
  "nbformat_minor": 5,
  "metadata": {
    "kernelspec": {
      "name": "python3",
      "display_name": "Python 3 (ipykernel)",
      "language": "python"
    },
    "language_info": {
      "name": "python",
      "codemirror_mode": {
        "name": "ipython",
        "version": "3"
      },
      "file_extension": ".py",
      "mimetype": "text/x-python",
      "nbconvert_exporter": "python",
      "pygments_lexer": "ipython3",
      "version": "3.12.7"
    }
  }
}