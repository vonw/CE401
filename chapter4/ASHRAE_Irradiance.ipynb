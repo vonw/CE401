{
 "cells": [
  {
   "cell_type": "markdown",
   "metadata": {},
   "source": [
    "# ASHRAE Irradiance sample calculation"
   ]
  },
  {
   "cell_type": "code",
   "execution_count": 1,
   "metadata": {},
   "outputs": [
    {
     "name": "stdout",
     "output_type": "stream",
     "text": [
      "Populating the interactive namespace from numpy and matplotlib\n"
     ]
    }
   ],
   "source": [
    "%pylab inline"
   ]
  },
  {
   "cell_type": "markdown",
   "metadata": {},
   "source": [
    "ASHRAE provides a formula for calculating the irradiance at the surface on a plane that is perpendicular to the incoming solar radiation. This equation is:\n",
    "\n",
    "$$ I_B = A e^{-Km} $$\n",
    "\n",
    "where\n",
    "\n",
    "$$ A = 1160 + 75 sin[360/365 (n - 275)] $$\n",
    "\n",
    "$$ K = 0.174 + 0.035 sin[360/365 (n - 100)] $$\n",
    "\n",
    "$$ m = 1/ sin(\\beta) $$\n",
    "\n",
    "$$ \\beta = 90 - Latitude + Declination $$\n",
    "\n",
    "$$ Declination = \\delta = 23.45 sin[360/365 (n - 81) $$\n",
    "\n",
    "and n is the day number (e.g., May 1 = 31 + 28 + 31 + 30 + 1 = 121)."
   ]
  },
  {
   "cell_type": "code",
   "execution_count": 2,
   "metadata": {},
   "outputs": [],
   "source": [
    "def declination(day):\n",
    "    d = -23.44 * cos( (2.*pi) / 365.25 * (day + 10) )   # Approximate\n",
    "    return d"
   ]
  },
  {
   "cell_type": "code",
   "execution_count": 3,
   "metadata": {},
   "outputs": [],
   "source": [
    "def A(n):\n",
    "    return 1160. + 75.*sin(360/365*(n-275)*pi/180) # W m-2"
   ]
  },
  {
   "cell_type": "code",
   "execution_count": 4,
   "metadata": {},
   "outputs": [],
   "source": [
    "def K(n):\n",
    "    return 0.174 +0.035*sin(360/365*(n-100)*pi/180) # unitless"
   ]
  },
  {
   "cell_type": "code",
   "execution_count": 5,
   "metadata": {},
   "outputs": [],
   "source": [
    "def m(latitude, declination):\n",
    "    return 1. / sin((90. - latitude + declination)*pi/180)"
   ]
  },
  {
   "cell_type": "code",
   "execution_count": 6,
   "metadata": {},
   "outputs": [
    {
     "data": {
      "text/plain": [
       "1124.6630369244601"
      ]
     },
     "execution_count": 6,
     "metadata": {},
     "output_type": "execute_result"
    }
   ],
   "source": [
    "A(121)"
   ]
  },
  {
   "cell_type": "code",
   "execution_count": 7,
   "metadata": {},
   "outputs": [
    {
     "data": {
      "text/plain": [
       "0.186378664276173"
      ]
     },
     "execution_count": 7,
     "metadata": {},
     "output_type": "execute_result"
    }
   ],
   "source": [
    "K(121)"
   ]
  },
  {
   "cell_type": "code",
   "execution_count": 10,
   "metadata": {},
   "outputs": [
    {
     "data": {
      "text/plain": [
       "14.788451200638994"
      ]
     },
     "execution_count": 10,
     "metadata": {},
     "output_type": "execute_result"
    }
   ],
   "source": [
    "declination(121)"
   ]
  },
  {
   "cell_type": "code",
   "execution_count": 8,
   "metadata": {},
   "outputs": [
    {
     "data": {
      "text/plain": [
       "1.1784278038586675"
      ]
     },
     "execution_count": 8,
     "metadata": {},
     "output_type": "execute_result"
    }
   ],
   "source": [
    "m(46.73, declination(121))"
   ]
  },
  {
   "cell_type": "code",
   "execution_count": 9,
   "metadata": {},
   "outputs": [
    {
     "name": "stdout",
     "output_type": "stream",
     "text": [
      "The ASHRAE irradiance at the surface is  903 W m-2\n"
     ]
    }
   ],
   "source": [
    "lat = 46.73\n",
    "day = 121\n",
    "dec = declination(day)\n",
    "Ib = A(day) * exp(-K(day)*m(lat, dec))\n",
    "print('The ASHRAE irradiance at the surface is %4.0f W m-2'% Ib)"
   ]
  },
  {
   "cell_type": "code",
   "execution_count": null,
   "metadata": {},
   "outputs": [],
   "source": []
  }
 ],
 "metadata": {
  "kernelspec": {
   "display_name": "Python 3 (ipykernel)",
   "language": "python",
   "name": "python3"
  },
  "language_info": {
   "codemirror_mode": {
    "name": "ipython",
    "version": 3
   },
   "file_extension": ".py",
   "mimetype": "text/x-python",
   "name": "python",
   "nbconvert_exporter": "python",
   "pygments_lexer": "ipython3",
   "version": "3.9.6"
  }
 },
 "nbformat": 4,
 "nbformat_minor": 4
}
