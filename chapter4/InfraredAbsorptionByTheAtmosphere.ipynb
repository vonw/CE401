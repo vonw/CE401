{
 "cells": [
  {
   "cell_type": "raw",
   "id": "88c910a6",
   "metadata": {
    "vscode": {
     "languageId": "raw"
    }
   },
   "source": [
    "---\n",
    "title: Infrared Absorption by the Atmosphere\n",
    "author: Von P. Walden\n",
    "\n",
    "code-links: binder\n",
    "---"
   ]
  },
  {
   "cell_type": "markdown",
   "id": "901b3b9c-978d-4a25-ad25-34475a1e7c2c",
   "metadata": {},
   "source": [
    "# Infrared Absorption by the Atmosphere"
   ]
  },
  {
   "cell_type": "markdown",
   "id": "4b196fca-b82e-46ba-9092-a83836e7aa8a",
   "metadata": {},
   "source": [
    "<i>© Von P. Walden, Washington State University</i>"
   ]
  },
  {
   "cell_type": "code",
   "execution_count": null,
   "id": "dd37987e-0f23-46a4-a58f-ffe80536193c",
   "metadata": {},
   "outputs": [],
   "source": [
    "import numpy as np\n",
    "import pandas as pd\n",
    "import matplotlib.pyplot as plt"
   ]
  },
  {
   "cell_type": "markdown",
   "id": "7213b970-90c3-408c-a60e-aca0502ed75d",
   "metadata": {},
   "source": [
    "## Definition of the Optical Depth"
   ]
  },
  {
   "cell_type": "markdown",
   "id": "16e75a47-6f72-479c-9ec0-924ea8000e6c",
   "metadata": {},
   "source": [
    "To calculate the infrared absorption by the atmosphere, we must calculate the optical depth.  The optical depth is related to the transmission of radiation through \"optical media\", such as an absorbing gas or an absorbing liquid. [Beer's Law](https://en.wikipedia.org/wiki/Beer–Lambert_law) gives us\n",
    "\n",
    "$$ I(\\lambda) = I_o(\\lambda) e^{-\\tau} $$\n",
    "\n",
    "or \n",
    "\n",
    "$$ I_{\\lambda} = I_{o, \\lambda} e^{-\\tau_{\\lambda}} $$\n",
    "\n",
    "This can be rewritten as \n",
    "\n",
    "$$ Transmission = \\frac{I_{\\lambda}}{I_{o, \\lambda}} = e^{-\\tau_{\\lambda}} $$\n",
    "\n",
    "Then one can solve for the optical depth $\\tau$ as\n",
    "\n",
    "$$ \\tau_{\\lambda} = -ln \\Big[ \\frac{I_{\\lambda}}{I_{o, \\lambda}} \\Big] $$\n",
    "\n",
    "\n",
    "In general, the optical depth is:\n",
    "\n",
    "$$ \\tau_{\\lambda} = \\int_{z_1}^{z_2} \\beta_{\\lambda} dz = \\int_{z_1}^{z_2} \\kappa_{\\lambda} \\rho (z) dz = \\int_{z_1}^{z_2} \\sigma_{\\lambda} n(z) dz $$\n",
    "\n",
    "where \n",
    "- $\\beta$ is the volume absorption coefficient,\n",
    "- $\\kappa$ is the mass absorption coefficient, \n",
    "- $\\sigma$ is the absorption cross section,\n",
    "\n",
    "which all depend on wavelength, $\\lambda$.\n",
    "\n",
    "$\\rho(z)$ and n(z) are the air density and the number density of the absorbing gas. z is distance along the absorbing path from $z_1$ to $z_2$. \n",
    "\n",
    "If one conducts an experiment of Beer's Law in the lab using a tube filled with an absorbing gas (like H2O or CO2), this equation reduces to:\n",
    "\n",
    "$$ \\tau_{\\lambda} = \\beta_{\\lambda} (z_2 - z_1) = \\kappa_{\\lambda} \\rho (z_2 - z_1) = \\sigma_{\\lambda} N (z_2 - z_1) $$\n",
    "\n",
    "Note that this is how scientists (100 or so years ago) determined how different gases absorbed infrared radiation at different wavelengths, by measuring the transmission of radiation through the gas, calculating the optical depth, then solving for either $\\beta_{\\lambda}$, $\\kappa_{\\lambda}$, or $\\sigma_{\\lambda}$.\n"
   ]
  },
  {
   "cell_type": "markdown",
   "id": "cd3c156f-2ccb-42c3-a583-d2d91cf22c55",
   "metadata": {},
   "source": [
    "### Optical Depth in the Atmosphere"
   ]
  },
  {
   "cell_type": "markdown",
   "id": "22bf6ca1-6b05-4a10-85f3-0464df822d72",
   "metadata": {},
   "source": [
    "To determine the optical depth in the atmosphere, one must use the general equation above, because the number of molecules of absorbing gas changes with height in the atmosphere. Carbon dioxide is \"uniformly mixed\" in the atmosphere, meaning that its concentration relative to other gases does not change with height. However, the actual number of CO2 molecules decreases exponentially with height in the atmosphere because the density (and pressure) of the air decreases in this manner. Most of the water vapor in the atmosphere is contained only in the troposphere in the lowest 7 or 8 km. Therefore, one must integrate through the atmosphere to determine the optical depth using: \n",
    "\n",
    "$$ \\tau_{\\lambda} = \\int_{z_1}^{z_2} \\kappa_{\\lambda} \\rho (z) dz $$\n",
    "\n",
    "Here we have chosen to use the specific formula of the optical depth that contains the mass absorption coefficient, because Figure 2 of  Pierrehumbert (2010) gives values of $\\kappa$ for both H2O and CO2.\n"
   ]
  },
  {
   "cell_type": "markdown",
   "id": "7f357a53-5c2e-47bc-bd1a-3f0072630fb9",
   "metadata": {},
   "source": [
    "## The McClatchey Standard Atmospheres"
   ]
  },
  {
   "cell_type": "markdown",
   "id": "ccc27f36-3dd9-4fa2-a666-91dd28286b87",
   "metadata": {},
   "source": [
    "We're lucky because [McClatchey et al (1972)](https://apps.dtic.mil/sti/pdfs/AD0753075.pdf) [in Optical Properties of the Atmosphere (Third Edition)] created a series of \"standard atmospheres\" for different locations and seasons on Earth that give us n(z) as a function of altitude (z) in the atmosphere. The McClatchey Standard Atmospheres are for:\n",
    "\n",
    "- Tropics             (TRP)\n",
    "- Mid-latitude Summer (MLS)\n",
    "- Mid-latitude Winter (MLW)\n",
    "- Sub-Arctic Summer   (SAS)\n",
    "- Sub-Arctic Winter   (SAW)\n"
   ]
  },
  {
   "cell_type": "code",
   "execution_count": null,
   "id": "bb523c6a-db8f-48cf-87e4-9d705f06c4fe",
   "metadata": {
    "tags": [
     "hide-input"
    ]
   },
   "outputs": [],
   "source": [
    "# Read in raw data files\n",
    "columns = ['layer', 'altitude', 'pressure', 'temperature', 'dew_point', 'density', 'h2o', 'co2', 'o3', 'n2o', 'co', 'ch4', 'o2']\n",
    "trp = pd.read_table('trp.dat', sep='\\s+', names=columns)\n",
    "mls = pd.read_table('mls.dat', sep='\\s+', names=columns)\n",
    "mlw = pd.read_table('mlw.dat', sep='\\s+', names=columns)\n",
    "sas = pd.read_table('sas.dat', sep='\\s+', names=columns)\n",
    "saw = pd.read_table('saw.dat', sep='\\s+', names=columns)"
   ]
  },
  {
   "cell_type": "code",
   "execution_count": null,
   "id": "659a37f4",
   "metadata": {
    "tags": [
     "hide-input"
    ]
   },
   "outputs": [],
   "source": [
    "Rair = 287.058        # J kg-1 K-1\n",
    "# Calculate air density\n",
    "trp.rename({'density': 'numberDensity'})\n",
    "trp['airDensity'] = (trp.pressure * 100) / (Rair * trp.temperature)\n",
    "\n",
    "mls.rename({'density': 'numberDensity'})\n",
    "mls['airDensity'] = (mls.pressure * 100) / (Rair * mls.temperature)\n",
    "\n",
    "mlw.rename({'density': 'numberDensity'})\n",
    "mlw['airDensity'] = (mlw.pressure * 100) / (Rair * mlw.temperature)\n",
    "\n",
    "sas.rename({'density': 'numberDensity'})\n",
    "sas['airDensity'] = (sas.pressure * 100) / (Rair * sas.temperature)\n",
    "\n",
    "saw.rename({'density': 'numberDensity'})\n",
    "saw['airDensity'] = (saw.pressure * 100) / (Rair * saw.temperature)\n"
   ]
  },
  {
   "cell_type": "code",
   "execution_count": null,
   "id": "05df41d4-dda4-4e35-bf5f-9d53b4ec7481",
   "metadata": {
    "tags": [
     "hide-input"
    ]
   },
   "outputs": [],
   "source": [
    "# Interpolate the standard atmospheres to a common grid in meters with heights every 100 meters\n",
    "trp.index = trp.altitude*1000\n",
    "trp = trp.reindex(np.arange(0,60001,100)).interpolate(method='linear')\n",
    "\n",
    "mls.index = mls.altitude*1000\n",
    "mls = mls.reindex(np.arange(0,60001,100)).interpolate(method='linear')\n",
    "\n",
    "mlw.index = mlw.altitude*1000\n",
    "mlw = mlw.reindex(np.arange(0,60001,100)).interpolate(method='linear')\n",
    "\n",
    "sas.index = sas.altitude*1000\n",
    "sas = sas.reindex(np.arange(0,60001,100)).interpolate(method='linear')\n",
    "\n",
    "saw.index = saw.altitude*1000\n",
    "saw = saw.reindex(np.arange(0,60001,100)).interpolate(method='linear')"
   ]
  },
  {
   "cell_type": "markdown",
   "id": "f0f8f9f1",
   "metadata": {},
   "source": [
    "---"
   ]
  },
  {
   "cell_type": "markdown",
   "id": "593c8c84",
   "metadata": {},
   "source": [
    "## 1) Choose the standard atmosphere\n",
    "\n",
    "| Standard Atmosphere | stdatm_name |\n",
    "| ------------------- | ----------- |\n",
    "| Tropical            |    'trp'    |\n",
    "| Mid-Latitude Summer |    'mls'    |\n",
    "| Mid-Latitude Winter |    'mlw'    |\n",
    "| Sub-Arctic Summer   |    'sas'    |\n",
    "| Sub-Arctic Winter   |    'saw'    |"
   ]
  },
  {
   "cell_type": "code",
   "execution_count": null,
   "id": "c4145b87",
   "metadata": {},
   "outputs": [],
   "source": [
    "# Change this variable to choose the model atmosphere\n",
    "# !! NOTE that the single quotation marks are important !!\n",
    "\n",
    "stdatm_name = 'mlw'\n",
    "\n",
    "if 'trp' in stdatm_name:\n",
    "    stdatm = trp\n",
    "elif 'mls' in stdatm_name:\n",
    "    stdatm = mls\n",
    "elif 'mlw' in stdatm_name:\n",
    "    stdatm = mlw\n",
    "elif 'sas' in stdatm_name:\n",
    "    stdatm = sas\n",
    "elif 'saw' in stdatm_name:\n",
    "    stdatm = saw\n",
    "else:\n",
    "    print(\"ERROR: This standard atmosphere is NOT RECOGNIZED. Try setting stdatm_name again!!\")"
   ]
  },
  {
   "cell_type": "markdown",
   "id": "ac2e38e3-2b96-4875-a4e8-79691451c326",
   "metadata": {},
   "source": [
    "## 2) Set the atmospheric CO2 concentration (in ppmv)"
   ]
  },
  {
   "cell_type": "code",
   "execution_count": null,
   "id": "9008fcc5-f939-4bf3-b2f6-687866f24cb1",
   "metadata": {},
   "outputs": [],
   "source": [
    "# Set CO2 in all Standard Atmospheres.\n",
    "#co2 = 330.   # ppmv; approximate concentration in 1971\n",
    "#co2 = 420.   # ppmv; current concentration in 2024\n",
    "co2 = 280.   # ppmv; pre-industrial concentration\n",
    "#co2 = 560.   # ppmv; doubled CO2 concentration (from pre-industrial)\n",
    "\n",
    "trp['co2'] = mls['co2'] = mlw['co2'] = sas['co2'] = saw['co2'] = co2#"
   ]
  },
  {
   "cell_type": "markdown",
   "id": "e8907133",
   "metadata": {},
   "source": [
    "---"
   ]
  },
  {
   "cell_type": "markdown",
   "id": "cb02d341-21bc-4642-b47e-3defed185ede",
   "metadata": {
    "tags": []
   },
   "source": [
    "### Pressure, Temperature, and Air Density in the Standard Atmospheres"
   ]
  },
  {
   "cell_type": "code",
   "execution_count": null,
   "id": "25b89e96-4fbe-480a-a86c-1b411ca3b58a",
   "metadata": {
    "tags": [
     "hide-input"
    ]
   },
   "outputs": [],
   "source": [
    "fig, (ax1, ax2, ax3) = plt.subplots(figsize=(20,10), nrows=1, ncols=3, sharey=True)\n",
    "\n",
    "# Pressure\n",
    "trp.plot(ax=ax1, x='pressure', y='altitude')\n",
    "mls.plot(ax=ax1, x='pressure', y='altitude')\n",
    "mlw.plot(ax=ax1, x='pressure', y='altitude')\n",
    "sas.plot(ax=ax1, x='pressure', y='altitude')\n",
    "saw.plot(ax=ax1, x='pressure', y='altitude')\n",
    "ax1.grid()\n",
    "ax1.set_xlabel('Pressure (mb)');\n",
    "ax1.set_ylabel('Altitude (km)');\n",
    "ax1.set_title('Atmospheric Pressure for Standard Atmospheres');\n",
    "ax1.legend(['TRP','MLS','MLW','SAS','SAW']);\n",
    "\n",
    "# Temperature\n",
    "trp.plot(ax=ax2, x='temperature', y='altitude')\n",
    "mls.plot(ax=ax2, x='temperature', y='altitude')\n",
    "mlw.plot(ax=ax2, x='temperature', y='altitude')\n",
    "sas.plot(ax=ax2, x='temperature', y='altitude')\n",
    "saw.plot(ax=ax2, x='temperature', y='altitude')\n",
    "ax2.grid()\n",
    "ax2.set_xlabel('Temperature (K)');\n",
    "ax2.set_ylabel('Altitude (km)');\n",
    "ax2.set_title('Temperature Profiles for Standard Atmospheres');\n",
    "ax2.legend(['TRP','MLS','MLW','SAS','SAW']);\n",
    "\n",
    "#O3\n",
    "trp.plot(ax=ax3, x='airDensity', y='altitude')\n",
    "mls.plot(ax=ax3, x='airDensity', y='altitude')\n",
    "mlw.plot(ax=ax3, x='airDensity', y='altitude')\n",
    "sas.plot(ax=ax3, x='airDensity', y='altitude')\n",
    "saw.plot(ax=ax3, x='airDensity', y='altitude')\n",
    "ax3.grid()\n",
    "ax3.set_xlabel('Density (kg m-3)');\n",
    "ax3.set_ylabel('Altitude (km)');\n",
    "ax3.set_title('Density of Air for Standard Atmospheres');\n",
    "ax3.legend(['TRP','MLS','MLW','SAS','SAW']);"
   ]
  },
  {
   "cell_type": "markdown",
   "id": "ee77aaa4-bf57-494d-8eb1-49bd5de9d398",
   "metadata": {},
   "source": [
    "### Primary Greenhouse Gas Concentrations in Standard Atmospheres"
   ]
  },
  {
   "cell_type": "code",
   "execution_count": null,
   "id": "5fb0c120-53d0-4dc2-b8bb-f8a0529a2928",
   "metadata": {
    "tags": [
     "hide-input"
    ]
   },
   "outputs": [],
   "source": [
    "fig, (ax1, ax2, ax3) = plt.subplots(figsize=(20,10), nrows=1, ncols=3, sharey=True)\n",
    "\n",
    "# H2O\n",
    "trp.plot(ax=ax1, x='h2o', y='altitude')\n",
    "mls.plot(ax=ax1, x='h2o', y='altitude')\n",
    "mlw.plot(ax=ax1, x='h2o', y='altitude')\n",
    "sas.plot(ax=ax1, x='h2o', y='altitude')\n",
    "saw.plot(ax=ax1, x='h2o', y='altitude')\n",
    "ax1.grid()\n",
    "ax1.set_xlabel('Water Vapor (ppmv)');\n",
    "ax1.set_ylabel('Altitude (km)');\n",
    "ax1.set_title('Water Vapor concentration for Standard Atmospheres');\n",
    "ax1.legend(['TRP','MLS','MLW','SAS','SAW']);\n",
    "\n",
    "# CO2\n",
    "trp.plot(ax=ax2, x='co2', y='altitude')\n",
    "mls.plot(ax=ax2, x='co2', y='altitude')\n",
    "mlw.plot(ax=ax2, x='co2', y='altitude')\n",
    "sas.plot(ax=ax2, x='co2', y='altitude')\n",
    "saw.plot(ax=ax2, x='co2', y='altitude')\n",
    "ax2.grid()\n",
    "ax2.set_xlabel('Carbon Dioxide (ppmv)');\n",
    "ax2.set_ylabel('Altitude (km)');\n",
    "ax2.set_title('Carbon Dioxide concentration for Standard Atmospheres');\n",
    "ax2.legend(['TRP','MLS','MLW','SAS','SAW']);\n",
    "\n",
    "#O3\n",
    "trp.plot(ax=ax3, x='o3', y='altitude')\n",
    "mls.plot(ax=ax3, x='o3', y='altitude')\n",
    "mlw.plot(ax=ax3, x='o3', y='altitude')\n",
    "sas.plot(ax=ax3, x='o3', y='altitude')\n",
    "saw.plot(ax=ax3, x='o3', y='altitude')\n",
    "ax3.grid()\n",
    "ax3.set_xlabel('Ozone (ppmv)');\n",
    "ax3.set_ylabel('Altitude (km)');\n",
    "ax3.set_title('Ozone concentration for Standard Atmospheres');\n",
    "ax3.legend(['TRP','MLS','MLW','SAS','SAW']);"
   ]
  },
  {
   "cell_type": "markdown",
   "id": "344b4c86-7867-4064-ba50-ea08f5c4e4c0",
   "metadata": {},
   "source": [
    "## Calculating Optical Depth"
   ]
  },
  {
   "cell_type": "markdown",
   "id": "da22231e-312b-447a-8d8b-fb3bb0f6ef9a",
   "metadata": {},
   "source": [
    "Now that we have values for the air density and the concentrations of the greenhouse gases, it is easy to calculate the optical depth for individual gases. \n",
    "\n",
    "We will use mass absorption coefficients for carbon dioxide at the following wavelengths (from the center of the 15-um CO2 band towards the atmospheric window between 8 and 12.5 um):\n",
    "\n",
    "|Type of Absorption|Wavenumber ($cm^{-1}$)|Wavelength ($\\mu$m)| $\\kappa_{a, \\lambda}$ ($m^2 kg^{-1}$) |\n",
    "| ---------------- | -------------------- | ----------------- | -------------------------- |\n",
    "| Very Strong      | 667                  | 15                | 2000                       |\n",
    "| Very Strong      | 714                  | 14                |   10                       |\n",
    "| Moderate         | 769                  | 13                |    0.1                     |\n",
    "| Weak             | 833                  | 12                |    0.001                   |\n",
    "\n",
    "These mass absorption coefficients values were *approximated* from Figure 2 in Pierrehumbert, Physics Today, January 2011. \n",
    "\n",
    "So, the optical depth can now be calculated for each layer of the atmosphere by multiplying the absorption cross sections ($\\kappa_{a, \\lambda}$) by the air density, and then by the thickness of the atmospheric layer, as shown in the code below (for the Mid-latitude Winter Standard Atmosphere - MLW)."
   ]
  },
  {
   "cell_type": "markdown",
   "id": "a407fdce-34fa-47eb-8b3f-44c305f5735d",
   "metadata": {
    "tags": [
     "hide-input"
    ]
   },
   "source": [
    "**Disclaimer:** Please note that this calculation of optical depth is for illustrative purposes only, and is over-simplified in the following ways:\n",
    "\n",
    "- In most cases H2O overlaps the absorption bands of all the other GH gases. (See Figure 2 of Pierrehumbert (2010); blowup of 600-670 cm-1).\n",
    "\n",
    "- We are neglecting how the line strengths of absorption lines depend on temperature in the atmosphere (https://hitran.org/docs/definitions-and-units/)\n",
    "\n",
    "- We are neglecting how the widths of absorption lines depend on both temperature and pressure (https://hitran.org/docs/definitions-and-units/)\n",
    "\n",
    "Accurate radiative transfer models of the atmosphere account for all of this issues."
   ]
  },
  {
   "cell_type": "code",
   "execution_count": null,
   "id": "f15d6443-f485-4716-9ea7-13de08bfa4fe",
   "metadata": {},
   "outputs": [],
   "source": [
    "Ka_15 = 2000\n",
    "Ka_14 = 10\n",
    "Ka_13 = 0.1\n",
    "Ka_12 = 0.001\n",
    "\n",
    "rhoCO2 = stdatm.airDensity[:-1] * stdatm.co2[:-1]/1e6     # Convert from ppmv to percent fraction\n",
    "dz   = np.diff(stdatm.altitude) * 1000                 # Calculate the height of each layer by differencing levels; meters\n",
    "\n",
    "# Calculate and plot the optical depth at 14.6 um for CO2 for the MLW Standard Atmosphere.\n",
    "stdatm['od_15'] = Ka_15 * rhoCO2 * dz\n",
    "stdatm['od_14'] = Ka_14 * rhoCO2 * dz\n",
    "stdatm['od_13'] = Ka_13 * rhoCO2 * dz\n",
    "stdatm['od_12'] = Ka_12 * rhoCO2 * dz"
   ]
  },
  {
   "cell_type": "code",
   "execution_count": null,
   "id": "e3beb853-3cc3-4117-bb4e-7a0155f2bb38",
   "metadata": {
    "tags": [
     "hide-input"
    ]
   },
   "outputs": [],
   "source": [
    "fig, ax = plt.subplots(figsize=(10,10))\n",
    "\n",
    "stdatm.plot(ax=ax, x='od_15', y='altitude', logx=True, logy=True)\n",
    "stdatm.plot(ax=ax, x='od_14', y='altitude', logx=True, logy=True)\n",
    "stdatm.plot(ax=ax, x='od_13', y='altitude', logx=True, logy=True)\n",
    "stdatm.plot(ax=ax, x='od_12', y='altitude', logx=True, logy=True)\n",
    "ax.grid()\n",
    "ax.set_xlabel('Optical Depth');\n",
    "ax.set_ylabel('Altitude (km)');\n",
    "ax.set_title('Infrared Optical Depths for CO2 in ' + stdatm_name + 'Standard Atmospheres');\n",
    "ax.legend(['15 um','14 um','13 um','12 um']);"
   ]
  },
  {
   "cell_type": "markdown",
   "id": "2d91c727-2d63-472c-aa18-48fbf43342e8",
   "metadata": {},
   "source": [
    "## Calculating Atmospheric Transmission"
   ]
  },
  {
   "cell_type": "markdown",
   "id": "82e49884-d7b6-413a-8786-5afb4d3c8b12",
   "metadata": {},
   "source": [
    "### As a function of altitude"
   ]
  },
  {
   "cell_type": "code",
   "execution_count": null,
   "id": "9fa8c6e8-2cca-4b29-8a33-c5f7a9fc63f2",
   "metadata": {},
   "outputs": [],
   "source": [
    "stdatm['T_15'] = np.exp(-stdatm.od_15) * 100\n",
    "stdatm['T_14'] = np.exp(-stdatm.od_14) * 100\n",
    "stdatm['T_13'] = np.exp(-stdatm.od_13) * 100\n",
    "stdatm['T_12'] = np.exp(-stdatm.od_12) * 100"
   ]
  },
  {
   "cell_type": "code",
   "execution_count": null,
   "id": "5d76b3fb-07c2-4d8e-8976-7f9a1556a65d",
   "metadata": {
    "tags": [
     "hide-input"
    ]
   },
   "outputs": [],
   "source": [
    "fig, ax = plt.subplots(figsize=(10,10))\n",
    "\n",
    "stdatm.plot(ax=ax, x='T_15', y='altitude', logx=True)\n",
    "stdatm.plot(ax=ax, x='T_14', y='altitude', logx=True)\n",
    "stdatm.plot(ax=ax, x='T_13', y='altitude', logx=True)\n",
    "stdatm.plot(ax=ax, x='T_12', y='altitude', logx=True)\n",
    "ax.axis([0.1, 120, 0, 60])\n",
    "ax.grid()\n",
    "ax.set_xlabel('Transmission');\n",
    "ax.set_ylabel('Altitude (km)');\n",
    "ax.set_title('Infrared Transmission for CO2 in ' + stdatm_name + 'Standard Atmospheres');\n",
    "ax.legend(['15 um','14 um','13 um','12 um']);"
   ]
  },
  {
   "cell_type": "markdown",
   "id": "769ab901-ca65-43ac-9617-8f8bc821d92d",
   "metadata": {},
   "source": [
    "### Transmission through the entire atmosphere"
   ]
  },
  {
   "cell_type": "markdown",
   "id": "21e5e5ce-caf7-43aa-8838-90245ad5fd72",
   "metadata": {},
   "source": [
    "The above figure shows the transmission as a function of altitude in the atmosphere. But how do we calculate the transmission through the entire atmosphere?\n",
    "\n",
    "There are two ways to do this:\n",
    "\n",
    "1. Multiply all the transmission from each layer together, or\n",
    "\n",
    "$$ T_{total} = e^{- \\tau_1} e^{- \\tau_2} e^{- \\tau_3} ... $$\n",
    "\n",
    "2. Or (because of the properties of exponents) one can just add up all the optical depths for each layer and take the exponential of that sum\n",
    "\n",
    "$$ T_{total} = e^{- \\tau_1} e^{- \\tau_2} e^{- \\tau_3} ... = e^{- (\\tau_1 +  \\tau_2 + \\tau_3 ...)} $$\n",
    "\n",
    "Option 2 is much easier for us here; see the code below."
   ]
  },
  {
   "cell_type": "code",
   "execution_count": null,
   "id": "1de8155f-105e-4733-933b-ec1f3cd782e8",
   "metadata": {},
   "outputs": [],
   "source": [
    "# Calculate total transmission in the atmosphere by summing all optical depths\n",
    "Ttotal_15 = np.exp(-stdatm.od_15.sum())\n",
    "Ttotal_14 = np.exp(-stdatm.od_14.sum())\n",
    "Ttotal_13 = np.exp(-stdatm.od_13.sum())\n",
    "Ttotal_12 = np.exp(-stdatm.od_12.sum())\n",
    "\n",
    "# Print results\n",
    "print(f'Total transmission in atmosphere (%) at 15 um = {Ttotal_15*100:.2f} %')\n",
    "print(f'Total transmission in atmosphere (%) at 14 um = {Ttotal_14*100:.2f} %')\n",
    "print(f'Total transmission in atmosphere (%) at 13 um = {Ttotal_13*100:.2f} %')\n",
    "print(f'Total transmission in atmosphere (%) at 12 um = {Ttotal_12*100:.2f} %')"
   ]
  },
  {
   "cell_type": "markdown",
   "id": "bf2d4acc-48b3-4513-a473-9e36b6f89703",
   "metadata": {},
   "source": [
    "## Calculating Atmospheric Absorption and Emissivity"
   ]
  },
  {
   "cell_type": "markdown",
   "id": "e49d29fb-80a0-454d-bcde-77b98f49ef4d",
   "metadata": {},
   "source": [
    "An important property of thermal radiation is given by [Kirchhoff's Law](https://en.wikipedia.org/wiki/Kirchhoff%27s_law_of_thermal_radiation). It states that \n",
    "\n",
    "```\n",
    "\"For an arbitrary body emitting and absorbing thermal radiation in thermodynamic equilibrium, the emissivity is equal to the absorptivity.\"\n",
    "```\n",
    "\n",
    "We don't have time to discuss this in CE401, but it states that a good emitter (high emissivity object) is an equally good absorber. \n",
    "\n",
    "This holds true for the atmosphere as well. So, if we calculate the absorption of the atmosphere as \n",
    "\n",
    "$$ Absorption = 1 - Transmission $$\n",
    "\n",
    "then also\n",
    "\n",
    "$$ Emissivity = 1 - Transmission $$\n"
   ]
  },
  {
   "cell_type": "markdown",
   "id": "d044c2bf-688b-49e5-91d9-53723875ca94",
   "metadata": {},
   "source": [
    "### As a function of altitude"
   ]
  },
  {
   "cell_type": "code",
   "execution_count": null,
   "id": "6b8b9d3e-7ade-4caf-b88d-2f04281bc111",
   "metadata": {},
   "outputs": [],
   "source": [
    "stdatm['A_15'] = (1. - np.exp(-stdatm.od_15)) * 100        # Convert from fraction to percent\n",
    "stdatm['A_14'] = (1. - np.exp(-stdatm.od_14)) * 100\n",
    "stdatm['A_13'] = (1. - np.exp(-stdatm.od_13)) * 100\n",
    "stdatm['A_12'] = (1. - np.exp(-stdatm.od_12)) * 100"
   ]
  },
  {
   "cell_type": "code",
   "execution_count": null,
   "id": "67b4d3d7-6b25-4b48-b64d-ad9713beac90",
   "metadata": {
    "tags": [
     "hide-input"
    ]
   },
   "outputs": [],
   "source": [
    "fig, ax = plt.subplots(figsize=(10,10))\n",
    "\n",
    "stdatm.plot(ax=ax, x='A_15', y='altitude', logx=True)\n",
    "stdatm.plot(ax=ax, x='A_14', y='altitude', logx=True)\n",
    "stdatm.plot(ax=ax, x='A_13', y='altitude', logx=True)\n",
    "stdatm.plot(ax=ax, x='A_12', y='altitude', logx=True)\n",
    "ax.grid()\n",
    "ax.set_xlabel('Absorption');\n",
    "ax.set_ylabel('Altitude (km)');\n",
    "ax.set_title('Infrared Absorption for CO2 in ' + stdatm_name + 'Standard Atmospheres');\n",
    "ax.legend(['15 um','14 um','13 um','12 um']);"
   ]
  },
  {
   "cell_type": "markdown",
   "id": "f3c248f1-5973-4bc3-a700-98afda065434",
   "metadata": {},
   "source": [
    "### Absorption by the entire atmosphere"
   ]
  },
  {
   "cell_type": "code",
   "execution_count": null,
   "id": "5338db1f-1f6e-41a5-a2a1-a95851a5a94a",
   "metadata": {},
   "outputs": [],
   "source": [
    "# Print results\n",
    "print(f'Total absorption in atmosphere (%) at 15 um = {(1 - Ttotal_15)*100:.2f} %')\n",
    "print(f'Total absorption in atmosphere (%) at 14 um = {(1 - Ttotal_14)*100:.2f} %')\n",
    "print(f'Total absorption in atmosphere (%) at 13 um = {(1 - Ttotal_13)*100:.2f} %')\n",
    "print(f'Total absorption in atmosphere (%) at 12 um = {(1 - Ttotal_12)*100:.2f} %')"
   ]
  },
  {
   "cell_type": "markdown",
   "id": "23076eea",
   "metadata": {},
   "source": []
  },
  {
   "cell_type": "code",
   "execution_count": null,
   "id": "4ae9b8eb-bde5-4d5d-b639-8901c048a673",
   "metadata": {},
   "outputs": [],
   "source": []
  }
 ],
 "metadata": {
  "kernelspec": {
   "display_name": "Python 3 (ipykernel)",
   "language": "python",
   "name": "python3"
  },
  "language_info": {
   "codemirror_mode": {
    "name": "ipython",
    "version": 3
   },
   "file_extension": ".py",
   "mimetype": "text/x-python",
   "name": "python",
   "nbconvert_exporter": "python",
   "pygments_lexer": "ipython3",
   "version": "3.12.7"
  },
  "toc-autonumbering": true,
  "toc-showcode": false,
  "toc-showmarkdowntxt": false,
  "toc-showtags": false,
  "vscode": {
   "interpreter": {
    "hash": "803aaea8018b5f3008b0095b367fec585783f18ef8cf99c7744bcd7257754e2c"
   }
  }
 },
 "nbformat": 4,
 "nbformat_minor": 5
}
