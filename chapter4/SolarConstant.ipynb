{
 "cells": [
  {
   "cell_type": "raw",
   "metadata": {
    "vscode": {
     "languageId": "raw"
    }
   },
   "source": [
    "---\n",
    "title: Insolation\n",
    "author: Von P. Walden\n",
    "\n",
    "code-links: binder\n",
    "---"
   ]
  },
  {
   "cell_type": "markdown",
   "metadata": {},
   "source": [
    "# Calculation of the Solar Constant"
   ]
  },
  {
   "cell_type": "markdown",
   "metadata": {},
   "source": [
    "<i>© Von P. Walden, Washington State University</i>"
   ]
  },
  {
   "cell_type": "markdown",
   "metadata": {},
   "source": [
    "## Useful links\n",
    "\n",
    "### [Information on the Solar \"Constant\"](https://en.wikipedia.org/wiki/Solar_cycle)\n",
    "\n",
    "### [Information on Earth's orbit](https://en.wikipedia.org/wiki/Earth%27s_orbit)"
   ]
  },
  {
   "cell_type": "code",
   "execution_count": null,
   "metadata": {},
   "outputs": [],
   "source": [
    "import numpy as np\n",
    "import pandas as pd"
   ]
  },
  {
   "cell_type": "markdown",
   "metadata": {},
   "source": [
    "### a) Calculate the flux emitted by the Sun in W m-2 using the Stefan-Boltzmann Law."
   ]
  },
  {
   "cell_type": "code",
   "execution_count": null,
   "metadata": {},
   "outputs": [],
   "source": [
    "Tsun = 5772                   # K; chosen to yield S = 1361 W m-2\n",
    "E    = 5.67e-8 * Tsun**4        # W m-2\n",
    "print('The flux from the Sun is:',E, 'W m-2')"
   ]
  },
  {
   "cell_type": "markdown",
   "metadata": {},
   "source": [
    "### b) Calculate the total power emitted by the Sun's surface."
   ]
  },
  {
   "cell_type": "code",
   "execution_count": null,
   "metadata": {},
   "outputs": [],
   "source": [
    "Rs   = 695.7e6                    # meters\n",
    "As   = 4*np.pi*Rs**2                 # m2\n",
    "Psun = E * As\n",
    "print('Power emitted by the Sun is:', Psun, 'Watts')"
   ]
  },
  {
   "cell_type": "markdown",
   "metadata": {},
   "source": [
    "### Now determine the flux (in W m-2) from the Sun, but at the distance of the Earth's orbit. NOTE that the total power from the Sun is spread over a very large area (in space...)"
   ]
  },
  {
   "cell_type": "code",
   "execution_count": null,
   "metadata": {},
   "outputs": [],
   "source": [
    "# Average radius of Earth's orbit around the Sun.\n",
    "Res   = 149.6e9                    # meters\n",
    "# Surface area of a sphere with radius equal to Re.\n",
    "Aes   = 4*np.pi*Res**2                # m2\n",
    "# Solar Constant\n",
    "S     = Psun / Aes\n",
    "print('The Solar Constant for Earth is:', S, 'W m-2')"
   ]
  },
  {
   "cell_type": "markdown",
   "metadata": {},
   "source": [
    "---"
   ]
  },
  {
   "cell_type": "markdown",
   "metadata": {},
   "source": [
    "### Now how much power is intercepted by the Earth as the Sun's rays pass by it."
   ]
  },
  {
   "cell_type": "code",
   "execution_count": null,
   "metadata": {},
   "outputs": [],
   "source": [
    "Re   = 6.4e6                        # meters\n",
    "Aint = np.pi*Re**2                     # Area intercepted by Earth in m2\n",
    "Pe   = S * Aint\n",
    "print('The amount of power (in Watts) that is constantly intercepted by Earth is:', Pe, 'Watts')"
   ]
  },
  {
   "cell_type": "markdown",
   "metadata": {},
   "source": [
    "### Convert this to Terawatts (TW); 1 TW = 1e12 W"
   ]
  },
  {
   "cell_type": "code",
   "execution_count": null,
   "metadata": {},
   "outputs": [],
   "source": [
    "print('The amount of power (in TW) that is constantly intercepted by Earth is:', Pe/1e12, 'TW')"
   ]
  },
  {
   "cell_type": "markdown",
   "metadata": {},
   "source": [
    "## As Dessler explains, all of human society currently consumes only 16 TW. So we only need to capture 0.01% of the Sun's power to meet all of our energy needs."
   ]
  },
  {
   "cell_type": "markdown",
   "metadata": {},
   "source": [
    "---"
   ]
  },
  {
   "cell_type": "code",
   "execution_count": null,
   "metadata": {},
   "outputs": [],
   "source": [
    "a = 0.3                               # Earth's albedo; unitless\n",
    "S*(1-a)/4"
   ]
  },
  {
   "cell_type": "markdown",
   "metadata": {},
   "source": [
    "### Note that S/4 is equal to 342 W m-2."
   ]
  },
  {
   "cell_type": "code",
   "execution_count": null,
   "metadata": {
    "scrolled": true
   },
   "outputs": [],
   "source": [
    "S/4"
   ]
  },
  {
   "cell_type": "markdown",
   "metadata": {},
   "source": [
    "---"
   ]
  },
  {
   "cell_type": "markdown",
   "metadata": {},
   "source": [
    "## Sensitivity to Earth-Sun Distance"
   ]
  },
  {
   "cell_type": "code",
   "execution_count": null,
   "metadata": {
    "scrolled": true
   },
   "outputs": [],
   "source": [
    "SensRes                   = pd.DataFrame({'Earth-Sun Distance': [147.1e9,149.6e9,152.1e9]})\n",
    "SensRes['Area']           = 4 * np.pi * SensRes['Earth-Sun Distance']**2\n",
    "SensRes['Solar Constant'] = Psun / SensRes['Area']\n",
    "SensRes['% difference']   = (SensRes['Solar Constant'] - SensRes['Solar Constant'].iloc[1]) / SensRes['Solar Constant'].iloc[1] * 100\n",
    "SensRes"
   ]
  },
  {
   "cell_type": "markdown",
   "metadata": {},
   "source": [
    "---"
   ]
  },
  {
   "cell_type": "markdown",
   "metadata": {},
   "source": [
    "## Sensitivity to Sun's surface temperature."
   ]
  },
  {
   "cell_type": "markdown",
   "metadata": {},
   "source": [
    "#### Note that the solar constant varies by about 0.1% (1.3 W m-2) during the 11-year solar cycle, from about 1361 to 1362.3 W m-2. http://acrim.com/TSI%20Monitoring.htm"
   ]
  },
  {
   "cell_type": "code",
   "execution_count": null,
   "metadata": {},
   "outputs": [],
   "source": [
    "Tsun = np.array([5772, 5773.5])   # K; chosen to yield S = 1361 W m-2\n",
    "E    = 5.67e-8 * Tsun**4        # W m-2\n",
    "Rs   = 695.7e6                  # meters\n",
    "As   = 4*np.pi*Rs**2               # m2\n",
    "Psun = E * As\n",
    "# Average radius of Earth's orbit around the Sun.\n",
    "Res   = 149.6e9                 # meters\n",
    "# Surface area of a sphere with radius equal to Re.\n",
    "Aes   = 4*np.pi*Res**2             # m2\n",
    "# Solar Constant\n",
    "S     = Psun / Aes\n",
    "\n",
    "SensTsun = pd.DataFrame({'Temperature of Sun':   Tsun,\n",
    "                         'Power Emitted by Sun': Psun,\n",
    "                         'Solar Constant':       S,\n",
    "                         '% difference': (S-S[0])/S[1]*100})\n",
    "SensTsun[['Temperature of Sun', 'Power Emitted by Sun', 'Solar Constant', '% difference']]"
   ]
  },
  {
   "cell_type": "code",
   "execution_count": null,
   "metadata": {},
   "outputs": [],
   "source": []
  }
 ],
 "metadata": {
  "kernelspec": {
   "display_name": "Python 3 (ipykernel)",
   "language": "python",
   "name": "python3"
  },
  "language_info": {
   "codemirror_mode": {
    "name": "ipython",
    "version": 3
   },
   "file_extension": ".py",
   "mimetype": "text/x-python",
   "name": "python",
   "nbconvert_exporter": "python",
   "pygments_lexer": "ipython3",
   "version": "3.12.7"
  },
  "vscode": {
   "interpreter": {
    "hash": "803aaea8018b5f3008b0095b367fec585783f18ef8cf99c7744bcd7257754e2c"
   }
  }
 },
 "nbformat": 4,
 "nbformat_minor": 4
}
