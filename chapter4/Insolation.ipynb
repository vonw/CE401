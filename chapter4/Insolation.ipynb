{
 "cells": [
  {
   "cell_type": "markdown",
   "metadata": {},
   "source": [
    "# Insolation"
   ]
  },
  {
   "cell_type": "markdown",
   "metadata": {},
   "source": [
    "<i>© Von P. Walden, Washington State University</i>"
   ]
  },
  {
   "cell_type": "code",
   "execution_count": null,
   "metadata": {},
   "outputs": [],
   "source": [
    "import numpy as np\n",
    "import matplotlib.pyplot as plt"
   ]
  },
  {
   "cell_type": "markdown",
   "metadata": {},
   "source": [
    "### Calculates the insolation at the top of the atmosphere (TOA) as a function of time and location."
   ]
  },
  {
   "cell_type": "markdown",
   "metadata": {},
   "source": [
    "#### Solar flux per unit area at TOA (Equations from Hartmann, <i>Global Physical Climatology</i>)"
   ]
  },
  {
   "cell_type": "markdown",
   "metadata": {},
   "source": [
    "$$Q = S_o (d_m/d)^2 \\cos(\\theta_s)$$ \n",
    "where So is the solar \"constant\", dm is the mean distance between the Earth and Sun, d is the actual distance between the Earth and Sun, and theta(s) is the solar zenith angle."
   ]
  },
  {
   "cell_type": "markdown",
   "metadata": {},
   "source": [
    "$\\delta = -23.44^{\\circ}\\cos{[(t_j+10 days)*(360^{\\circ}/365.25 days)]}$ is the declination angle."
   ]
  },
  {
   "cell_type": "markdown",
   "metadata": {},
   "source": [
    "$\\cos{\\theta_s} = \\sin{\\phi}sin{\\delta} + \\cos{\\phi}\\cos{\\delta}\\cos{h}$, where phi is the latitude and h is the hour angle."
   ]
  },
  {
   "cell_type": "markdown",
   "metadata": {},
   "source": [
    "$h=(12-t)*(15^{\\circ} / 1 hour)$, where t is the local time and 15 is the number of degrees that the Earth rotates in one hour.  The conversion factor converts hours to degrees."
   ]
  },
  {
   "cell_type": "markdown",
   "metadata": {},
   "source": [
    "$ d_m $ is the mean distance from the Sun to the Earth, and is equal to the length of semi-major axis (a) of the elliptical orbit (which is 149.6 million km).\n",
    "\n",
    "d is the distance between the Earth and Sun on any given day, where the closest approach (perihelion) occurs on 3 January.\n",
    "\n",
    "$$ d = \\frac{a(1+\\epsilon^2)}{1 + \\epsilon cos(\\theta)} $$\n",
    "\n",
    "where $ \\epsilon $ is the eccentricity of Earth's orbit (0.017) and $ \\theta $ is an angle that relates the day number to the correct location of Earth in the elliptical orbit for that day."
   ]
  },
  {
   "cell_type": "markdown",
   "metadata": {},
   "source": [
    "$Q_{dayavg} = (S_o/\\pi)(d_m/d)^2[h_o\\sin{\\phi}\\sin{\\delta}+\\cos{\\phi}\\cos{\\delta}\\sin{h_o}]$, where cos($h_o) = -\\tan{\\phi}\\tan{\\delta}$."
   ]
  },
  {
   "cell_type": "code",
   "execution_count": null,
   "metadata": {},
   "outputs": [],
   "source": [
    "def earth_sun_distance(day):\n",
    "    a     = 149.6e6                   # km\n",
    "    e     = 0.017\n",
    "    theta = (day - 3) * ((2*np.pi) / 365.25)     # This is only an approximation.\n",
    "    d = a*(1-e*e)/(1+e * np.cos(theta))\n",
    "    return d\n"
   ]
  },
  {
   "cell_type": "code",
   "execution_count": null,
   "metadata": {},
   "outputs": [],
   "source": [
    "def declination(day):\n",
    "    dec = -23.44 * np.cos( (2.*np.pi) / 365.25 * (day + 10) )   # Approximate\n",
    "    return dec\n"
   ]
  },
  {
   "cell_type": "code",
   "execution_count": null,
   "metadata": {},
   "outputs": [],
   "source": [
    "def solar_zenith_angle(latitude,declinationAngle,hour):\n",
    "    # All angles must be in radians !!\n",
    "    latitude = latitude * (np.pi/180.)\n",
    "    declinationAngle = declinationAngle * (np.pi/180.)\n",
    "    h = 15. * (12. - hour) * (np.pi/180.)\n",
    "    sza = np.arccos(np.sin(latitude)*np.sin(declinationAngle) + np.cos(latitude)*np.cos(declinationAngle)*np.cos(h))\n",
    "    return sza\n"
   ]
  },
  {
   "cell_type": "code",
   "execution_count": null,
   "metadata": {},
   "outputs": [],
   "source": [
    "def Qday_avg(latitude,day):\n",
    "    lat = latitude*(np.pi/180.)\n",
    "    So  = 1370.\n",
    "    d   = earth_sun_distance(day)\n",
    "    dm  = 149.6e6\n",
    "    da  = declination(day) * (np.pi/180.)\n",
    "    tmp = np.tan(lat)*np.tan(da)\n",
    "    # Obtain this condition from http://en.wikipedia.org/wiki/Insolation\n",
    "    if tmp>1:\n",
    "        ho = np.pi\n",
    "    elif tmp<-1:\n",
    "        ho = 0.\n",
    "    else:\n",
    "        ho  = np.arccos(-1.*np.tan(lat)*np.tan(da))\n",
    "    Q   = (So/np.pi) * (dm/d)**2 * (ho*np.sin(lat)*np.sin(da) + np.cos(lat)*np.cos(da)*np.sin(ho))\n",
    "    return Q\n"
   ]
  },
  {
   "cell_type": "markdown",
   "metadata": {},
   "source": [
    "### Geographic distribution of insolation (solar radition) at TOA"
   ]
  },
  {
   "cell_type": "code",
   "execution_count": null,
   "metadata": {},
   "outputs": [],
   "source": [
    "lats = np.arange(-90.,91.)\n",
    "days = np.arange(1.,366.)\n",
    "\n",
    "Q = np.array([])\n",
    "for lat in lats:\n",
    "    for day in days:\n",
    "        Q = np.append(Q, Qday_avg(lat,day))\n",
    "\n",
    "Qn = np.reshape(Q,(181,365))\n",
    "plt.figure(figsize=(20,10))\n",
    "#CS=contourf(days, lats, Qn, range(0,550,50), cmap=plt.cm.RdBu_r)\n",
    "CS=plt.contour(days, lats, Qn, range(0,550,25), colors='k')\n",
    "plt.clabel(CS, range(0,550,100) ,inline=1,fmt='%4.0f',fontsize=12)\n",
    "plt.grid()\n",
    "plt.xlabel('Day of Year');\n",
    "plt.ylabel('Latitude (deg)');\n",
    "plt.title('TOA Insolation as a function of Day of Year and Latitude');"
   ]
  },
  {
   "cell_type": "markdown",
   "metadata": {},
   "source": [
    "### Latitudinal variation of TOA insolation on solstices and equinoxes"
   ]
  },
  {
   "cell_type": "code",
   "execution_count": null,
   "metadata": {},
   "outputs": [],
   "source": [
    "mar20 = 31+28+20\n",
    "jun21 = 31+28+31+30+31+21\n",
    "sep20 = 31+28+31+30+31+30+31+31+20\n",
    "dec21 = 355\n",
    "plt.figure(figsize=(20,10))\n",
    "plt.plot(lats,Qn[:,jun21],'r',lats,Qn[:,dec21],'b')\n",
    "plt.plot(lats,Qn[:,mar20],'r--',lats,Qn[:,sep20],'b--')\n",
    "#plt.plot(lats,Qn.mean(axis=1),'k')                      # Annual mean\n",
    "plt.axis([-90., 90., 0., 600])\n",
    "plt.grid()\n",
    "plt.xticks(np.arange(-90., 90.+1, 30.))\n",
    "plt.xlabel('Latitude (degrees)');\n",
    "plt.ylabel('Insolation (W m-2)');\n",
    "plt.title('Insolation for the Solstices and Equinoxes');\n",
    "plt.legend(['June Solstice', 'December Solstice', 'March Equinox', 'September Equinox'])"
   ]
  }
 ],
 "metadata": {
  "kernelspec": {
   "display_name": "Python 3 (ipykernel)",
   "language": "python",
   "name": "python3"
  },
  "language_info": {
   "codemirror_mode": {
    "name": "ipython",
    "version": 3
   },
   "file_extension": ".py",
   "mimetype": "text/x-python",
   "name": "python",
   "nbconvert_exporter": "python",
   "pygments_lexer": "ipython3",
   "version": "3.10.2"
  }
 },
 "nbformat": 4,
 "nbformat_minor": 4
}
