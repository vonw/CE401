{
 "cells": [
  {
   "cell_type": "markdown",
   "metadata": {},
   "source": [
    "# Comparing temperature distributions"
   ]
  },
  {
   "cell_type": "markdown",
   "metadata": {},
   "source": [
    "<i>© Von P. Walden, Washington State University</i>"
   ]
  },
  {
   "cell_type": "markdown",
   "metadata": {},
   "source": [
    "This notebook compares two distributions that differ slightly in their mean values. The idea is to simulate the two distributions in Figure 1.1 in Dessler's book, and to then subtract the distributions to show where they differ the most."
   ]
  },
  {
   "cell_type": "code",
   "execution_count": null,
   "metadata": {},
   "outputs": [],
   "source": [
    "import numpy as np\n",
    "import matplotlib.pyplot as plt\n",
    "from scipy.stats import norm\n",
    "import statistics"
   ]
  },
  {
   "cell_type": "markdown",
   "metadata": {},
   "source": [
    "### Generate two distributions of temperatures that approximate those measured in Houston, TX in the 1970s and 2010s."
   ]
  },
  {
   "cell_type": "code",
   "execution_count": null,
   "metadata": {},
   "outputs": [],
   "source": [
    "# ....These distributions roughly approximate those in Figure 1.1 in Dessler's Introduction to Modern Climate Change\n",
    "x = np.arange(21, 43, 0.1)\n",
    "H1970s = norm.pdf(x, 31, 2.75)\n",
    "H2010s = norm.pdf(x, 33, 2.75)\n",
    "\n",
    "\n",
    "plt.figure(figsize=(12,12))\n",
    "plt.subplot(211)\n",
    "plt.plot(x, H1970s)\n",
    "plt.plot(x, H2010s)\n",
    "plt.grid(True)\n",
    "plt.xlabel('Temperature (C)')\n",
    "plt.ylabel('Frequency')\n",
    "plt.title('Approximate Temperature Distributions for September near Houston, TX')\n",
    "plt.legend(['1970s', '2010s'])\n",
    "plt.subplot(212)\n",
    "plt.plot(x, H2010s-H1970s)\n",
    "plt.xlabel('Temperature (C)')\n",
    "plt.ylabel('Frequency')\n",
    "plt.title('Difference of the two temperature distributions')\n",
    "plt.grid(True)"
   ]
  },
  {
   "cell_type": "code",
   "execution_count": null,
   "metadata": {},
   "outputs": [],
   "source": []
  }
 ],
 "metadata": {
  "kernelspec": {
   "display_name": "Python 3",
   "language": "python",
   "name": "python3"
  },
  "language_info": {
   "codemirror_mode": {
    "name": "ipython",
    "version": 3
   },
   "file_extension": ".py",
   "mimetype": "text/x-python",
   "name": "python",
   "nbconvert_exporter": "python",
   "pygments_lexer": "ipython3",
   "version": "3.11.4"
  },
  "vscode": {
   "interpreter": {
    "hash": "803aaea8018b5f3008b0095b367fec585783f18ef8cf99c7744bcd7257754e2c"
   }
  }
 },
 "nbformat": 4,
 "nbformat_minor": 4
}
