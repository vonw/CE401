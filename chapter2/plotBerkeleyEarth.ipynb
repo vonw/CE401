{
 "cells": [
  {
   "cell_type": "raw",
   "id": "7904d19e",
   "metadata": {
    "vscode": {
     "languageId": "raw"
    }
   },
   "source": [
    "---\n",
    "title: Plot Berkeley Earth\n",
    "author: Von P. Walden\n",
    "\n",
    "code-links: binder\n",
    "---"
   ]
  },
  {
   "cell_type": "markdown",
   "id": "f6e746a0-8b65-434d-bd91-e2d431a0b1a6",
   "metadata": {
    "tags": []
   },
   "source": [
    "### Plot global temperature anomalies from Berkeley Earth"
   ]
  },
  {
   "cell_type": "markdown",
   "id": "01e5ce16-484b-42a6-b125-2224a14f35de",
   "metadata": {},
   "source": [
    "<i>© Von P. Walden, Washington State University</i>"
   ]
  },
  {
   "cell_type": "markdown",
   "id": "d2dc7306-d3cf-4489-943e-7d765f98afcf",
   "metadata": {
    "tags": []
   },
   "source": [
    "The data used in this notebook are from [Berkeley Earth](http://berkeleyearth.org/data): Land_and_Ocean_LatLong1.nc"
   ]
  },
  {
   "cell_type": "code",
   "execution_count": null,
   "id": "77b6139e-c303-4cb6-b760-4c2a194eeaaa",
   "metadata": {},
   "outputs": [],
   "source": [
    "import matplotlib.pyplot as plt\n",
    "import cartopy.crs as ccrs\n",
    "import pandas as pd\n",
    "import xarray as xr"
   ]
  },
  {
   "cell_type": "markdown",
   "id": "319b5d1f",
   "metadata": {},
   "source": [
    "#### Working from your local computer\n",
    "\n",
    "If you are running this notebook from your local computer, you will need to:\n",
    "\n",
    "1) Download a large (400 MB) data file (Land_and_Ocean_LatLong1.nc) from Canvas.\n",
    "\n",
    "2) Edit the code cell below by replacing '../Land_and_Ocean_LatLong1.nc' with the pathname to the data file on your local hard drive.\n",
    "\n",
    "3) NOTE that if you have a PC laptop that runs Windows (as opposed to a Mac or a Linux computer), the syntax of your filename is different. In particular, PCs use a backward slash instead of a forward slash. For Python to recognize the backward slash, one must actually use two backslashes together. So copy the location of the Land_and_Ocean_LatLong1.nc file, then make sure to use double backslashes. An example is given in the code cell below."
   ]
  },
  {
   "cell_type": "code",
   "execution_count": null,
   "id": "3f50ad6b-da7d-4e39-b1f4-145125929872",
   "metadata": {},
   "outputs": [],
   "source": [
    "# ....For Windows PC\n",
    "#be = xr.open_dataset('C:\\\\Users\\\\vonw\\\\Land_and_Ocean_LatLong1.nc')\n",
    "# ....For Mac or Linux\n",
    "#be = xr.open_dataset('../../Land_and_Ocean_LatLong1.nc')\n",
    "be = xr.open_dataset('/Users/vonw/Downloads/Land_and_Ocean_LatLong1.nc')\n",
    "be"
   ]
  },
  {
   "cell_type": "markdown",
   "id": "cc3e60f6",
   "metadata": {},
   "source": [
    "#### Plot geographic distribution of 1951-1980 climatology"
   ]
  },
  {
   "cell_type": "code",
   "execution_count": null,
   "id": "aa116d6a",
   "metadata": {},
   "outputs": [],
   "source": [
    "# Select a particular month to view\n",
    "month = 'Jan'\n",
    "\n",
    "months = ['Jan', 'Feb', 'Mar', 'Apr', 'May', 'Jun', 'Jul', 'Aug', 'Sep', 'Oct', 'Nov', 'Dec']\n",
    "\n",
    "fig = plt.figure(figsize=(20,10))\n",
    "ax = plt.axes(projection=ccrs.PlateCarree())\n",
    "ax.coastlines()\n",
    "be.climatology[months.index(month)].plot(ax=ax)\n",
    "plt.title('Climatology (1951-1980) for ' + month);"
   ]
  },
  {
   "cell_type": "markdown",
   "id": "ec000242",
   "metadata": {},
   "source": [
    "#### Plot geographic distribution of temperature anomalies for given year and month"
   ]
  },
  {
   "cell_type": "code",
   "execution_count": null,
   "id": "b8050626",
   "metadata": {},
   "outputs": [],
   "source": [
    "# Select a particular year and month to view\n",
    "year = 1900\n",
    "month = 'Jan'\n",
    "\n",
    "months = ['Jan', 'Feb', 'Mar', 'Apr', 'May', 'Jun', 'Jul', 'Aug', 'Sep', 'Oct', 'Nov', 'Dec']\n",
    "\n",
    "fig = plt.figure(figsize=(20,10))\n",
    "ax = plt.axes(projection=ccrs.PlateCarree())\n",
    "ax.coastlines()\n",
    "(be.temperature[months.index(month)+((year-1850)*12)]).plot(ax=ax, clim=[-10, 10])\n",
    "plt.title('Temperature Anomalies for ' + month + ' ' + str(year));"
   ]
  },
  {
   "cell_type": "markdown",
   "id": "37f013df",
   "metadata": {},
   "source": [
    "#### Plot geographic distribution of actual temperatures for given year and month"
   ]
  },
  {
   "cell_type": "code",
   "execution_count": null,
   "id": "a37e2e0b",
   "metadata": {},
   "outputs": [],
   "source": [
    "# Select a particular year and month to view\n",
    "year = 2023\n",
    "month = 'Jan'\n",
    "\n",
    "months = ['Jan', 'Feb', 'Mar', 'Apr', 'May', 'Jun', 'Jul', 'Aug', 'Sep', 'Oct', 'Nov', 'Dec']\n",
    "\n",
    "fig = plt.figure(figsize=(20,10))\n",
    "ax = plt.axes(projection=ccrs.PlateCarree())\n",
    "ax.coastlines()\n",
    "(be.temperature[months.index(month)+((year-1850)*12)] + be.climatology[months.index(month)]).plot(ax=ax, clim=[-10, 10])\n",
    "plt.title('Temperatures for ' + month + ' ' + str(year));"
   ]
  },
  {
   "cell_type": "markdown",
   "id": "9ffac828",
   "metadata": {},
   "source": [
    "#### Calculate global annual temperature anomalies"
   ]
  },
  {
   "cell_type": "code",
   "execution_count": null,
   "id": "9c76dc33",
   "metadata": {},
   "outputs": [],
   "source": [
    "# Select a particular year and month to view\n",
    "# !! Depending on how many years you choose to analyze, this COULD TAKE TENS OF SECONDS to complete.\n",
    "beginning_year = 1850\n",
    "ending_year = 2023\n",
    "\n",
    "months = pd.date_range(start=str(beginning_year), end=str(ending_year+1), freq='ME')\n",
    "\n",
    "data = []\n",
    "for month in months:\n",
    "    #print(month.month)\n",
    "    data.append(be.temperature[month.month+((month.year-1850)*12)].mean())\n",
    "\n",
    "Tanomalies = xr.DataArray(data, coords={'month': months})\n",
    "\n",
    "fig = plt.figure(figsize=(20,10))\n",
    "Tanomalies.plot()\n",
    "plt.grid()\n",
    "plt.xlabel('Month');\n",
    "plt.ylabel('Temperature anomaly (C)');\n",
    "plt.title('Global monthly temperature anomaly between ' + str(beginning_year) + ' and ' + str(ending_year));"
   ]
  },
  {
   "cell_type": "markdown",
   "id": "79e00731",
   "metadata": {},
   "source": [
    "#### Calculate longitudinally-averaged temperature anomalies"
   ]
  },
  {
   "cell_type": "code",
   "execution_count": null,
   "id": "2f7ec941",
   "metadata": {},
   "outputs": [],
   "source": [
    "# Select the latitude range to average over\n",
    "beginning_latitude = -5\n",
    "ending_latitude = 5\n",
    "\n",
    "# Select a particular year and month to view\n",
    "# !! Depending on how many years you choose to analyze, this COULD TAKE TENS OF SECONDS to complete.\n",
    "beginning_year = 1950\n",
    "ending_year = 2023\n",
    "\n",
    "months = pd.date_range(start=str(beginning_year), end=str(ending_year+1), freq='ME')\n",
    "\n",
    "data = []\n",
    "for month in months:\n",
    "    #print(month.month)\n",
    "    data.append(be.temperature[month.month+((month.year-1850)*12)].sel(latitude=slice(beginning_latitude, ending_latitude)).mean())\n",
    "\n",
    "Tanomalies = xr.DataArray(data, coords={'month': months})\n",
    "\n",
    "fig = plt.figure(figsize=(20,10))\n",
    "Tanomalies.plot()\n",
    "plt.grid()\n",
    "plt.xlabel('Month');\n",
    "plt.ylabel('Temperature anomaly (C)');\n",
    "plt.title('Equatorial temperature anomaly between ' + str(beginning_year) + ' and ' + str(ending_year));"
   ]
  },
  {
   "cell_type": "code",
   "execution_count": null,
   "id": "e577d4d1-4bce-4c03-a3c1-9723a72b9e2c",
   "metadata": {},
   "outputs": [],
   "source": []
  }
 ],
 "metadata": {
  "kernelspec": {
   "display_name": "work",
   "language": "python",
   "name": "work"
  },
  "language_info": {
   "codemirror_mode": {
    "name": "ipython",
    "version": 3
   },
   "file_extension": ".py",
   "mimetype": "text/x-python",
   "name": "python",
   "nbconvert_exporter": "python",
   "pygments_lexer": "ipython3",
   "version": "3.12.7"
  }
 },
 "nbformat": 4,
 "nbformat_minor": 5
}
